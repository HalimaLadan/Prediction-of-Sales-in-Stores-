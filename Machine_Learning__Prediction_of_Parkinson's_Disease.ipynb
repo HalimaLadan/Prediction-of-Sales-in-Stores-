{
  "nbformat": 4,
  "nbformat_minor": 0,
  "metadata": {
    "colab": {
      "name": "Machine Learning__Prediction of Parkinson's Disease.ipynb",
      "provenance": [],
      "collapsed_sections": [],
      "include_colab_link": true
    },
    "kernelspec": {
      "name": "python3",
      "display_name": "Python 3"
    },
    "language_info": {
      "name": "python"
    }
  },
  "cells": [
    {
      "cell_type": "markdown",
      "metadata": {
        "id": "view-in-github",
        "colab_type": "text"
      },
      "source": [
        "<a href=\"https://colab.research.google.com/github/Heilley/Grocery_Sales_Prediction/blob/main/Machine_Learning__Prediction_of_Parkinson's_Disease.ipynb\" target=\"_parent\"><img src=\"https://colab.research.google.com/assets/colab-badge.svg\" alt=\"Open In Colab\"/></a>"
      ]
    },
    {
      "cell_type": "markdown",
      "source": [
        "#**Detecting Parkinson's Disease Using Machine Learning**\n",
        "\n",
        "\n",
        "> **Halima Bulama-Ladan**\n",
        "\n",
        "\n",
        "> **03/31/2022**\n",
        "\n",
        "\n",
        "\n"
      ],
      "metadata": {
        "id": "9lQ7x8zHYNrr"
      }
    },
    {
      "cell_type": "markdown",
      "source": [
        "##**Parkinson's Disease:**\n",
        "\n",
        "\n",
        "> Parkinson's disease is an ongoing, progressive disease of the nervous system that affects a patient's movement. Millions of individuals worldwide are diagnosed with Parkinson's disease. The cause of Parkinson's disease is presently not known. However, research attributes the disease to a combination of genetic and environmental factors. Age also plays a role. Most cases of Parkinson's disease begins after an individual is sixty years old.\n",
        "\n",
        ">Unfortunately, there is currently no cure for Parkinson's disease. There are, however, medications to surpress the symptoms of the disease. Occupational therapy is also plays a huge part of treating Parkinson's disease. Overall, this condition requires intense treatment and symptom management for a patient to live a full life.\n",
        "\n",
        "##**Major Early Symptom:**\n",
        "\n",
        ">Parkinson’s disease patients typically have a low-volume voice with a monotone (expressionless) quality. The speech pattern is often produced in short bursts with inappropriate silences between words and long pauses before initiating speech. The speech may also be slurred. A small percentage of patients (about 15 percent) may also have a tremulous voice\n",
        "\n",
        "\n",
        "\n"
      ],
      "metadata": {
        "id": "LxL1j97scwYC"
      }
    },
    {
      "cell_type": "markdown",
      "source": [
        "##**Project Objectives**\n",
        "\n",
        "\n",
        "> The objectives of this project, is to build three different models using Random Forest Classifier, LGBMClassifier, XGBClassifier respectively to detect the presence of the disease in individuals at an early stage, using voice analysis. The performance of the three models will be evaluated using evaluation metric and the model with the best scores will be chosen.\n",
        "\n"
      ],
      "metadata": {
        "id": "XBS1YVDhdk9s"
      }
    },
    {
      "cell_type": "markdown",
      "source": [
        "#**Mounting Drive**"
      ],
      "metadata": {
        "id": "knsKI2RyJnAe"
      }
    },
    {
      "cell_type": "code",
      "source": [
        "from google.colab import drive\n",
        "drive.mount(\"/content/drive\")"
      ],
      "metadata": {
        "id": "u2JEY_E4YhnE",
        "colab": {
          "base_uri": "https://localhost:8080/"
        },
        "outputId": "1762fedc-b623-44ab-ea64-e96c59633e94"
      },
      "execution_count": 273,
      "outputs": [
        {
          "output_type": "stream",
          "name": "stdout",
          "text": [
            "Drive already mounted at /content/drive; to attempt to forcibly remount, call drive.mount(\"/content/drive\", force_remount=True).\n"
          ]
        }
      ]
    },
    {
      "cell_type": "markdown",
      "source": [
        "##**Importing Libraries**"
      ],
      "metadata": {
        "id": "NvkU-5vBUh1J"
      }
    },
    {
      "cell_type": "code",
      "source": [
        "#libraries used in cleaning and visualizing and analysing datasets\n",
        "import pandas as pd\n",
        "import numpy as np\n",
        "import matplotlib.pyplot as plt\n",
        "import seaborn as sns\n",
        "\n",
        "#Preprocessing Libraries for preparing dataset into suitable machine learning format\n",
        "from sklearn.model_selection import train_test_split, GridSearchCV\n",
        "from sklearn.impute import SimpleImputer\n",
        "from sklearn.preprocessing import StandardScaler, OneHotEncoder, LabelEncoder\n",
        "from sklearn.compose import make_column_selector, make_column_transformer\n",
        "\n",
        "\n",
        "from imblearn.pipeline import Pipeline\n",
        "from sklearn.pipeline import make_pipeline\n",
        "from sklearn import set_config\n",
        "\n",
        "set_config(display = \"diagram\")\n",
        "from sklearn.decomposition import PCA\n",
        "from imblearn.over_sampling import SMOTE\n",
        "\n",
        "\n",
        "#Importing Machine learning models\n",
        "from sklearn.neighbors import KNeighborsClassifier\n",
        "from sklearn.ensemble import RandomForestClassifier\n",
        "from lightgbm import LGBMClassifier\n",
        "from xgboost import XGBClassifier\n",
        "from sklearn import metrics\n",
        "from sklearn.metrics import classification_report, ConfusionMatrixDisplay, get_scorer, accuracy_score, recall_score, precision_score"
      ],
      "metadata": {
        "id": "wHdyeloEYxZ1"
      },
      "execution_count": 274,
      "outputs": []
    },
    {
      "cell_type": "markdown",
      "source": [
        "##**Source of Data**\n",
        "\n",
        "> The source of data for this project can be found [here](https://archive.ics.uci.edu/ml/machine-learning-databases/parkinsons/).                  \n",
        "\n",
        "\n"
      ],
      "metadata": {
        "id": "jSfG0nmagaKT"
      }
    },
    {
      "cell_type": "markdown",
      "source": [
        "##**Loading DataSet**"
      ],
      "metadata": {
        "id": "ddgDnpGdft1g"
      }
    },
    {
      "cell_type": "code",
      "source": [
        "df =pd.read_csv(\"/content/parkinsons.data\")\n",
        "df.head()"
      ],
      "metadata": {
        "id": "aFPHJVT-ldL3",
        "colab": {
          "base_uri": "https://localhost:8080/",
          "height": 299
        },
        "outputId": "bd32367d-6b77-4684-db1d-e615810a7bfb"
      },
      "execution_count": 275,
      "outputs": [
        {
          "output_type": "execute_result",
          "data": {
            "text/plain": [
              "             name  MDVP:Fo(Hz)  MDVP:Fhi(Hz)  MDVP:Flo(Hz)  MDVP:Jitter(%)  \\\n",
              "0  phon_R01_S01_1      119.992       157.302        74.997         0.00784   \n",
              "1  phon_R01_S01_2      122.400       148.650       113.819         0.00968   \n",
              "2  phon_R01_S01_3      116.682       131.111       111.555         0.01050   \n",
              "3  phon_R01_S01_4      116.676       137.871       111.366         0.00997   \n",
              "4  phon_R01_S01_5      116.014       141.781       110.655         0.01284   \n",
              "\n",
              "   MDVP:Jitter(Abs)  MDVP:RAP  MDVP:PPQ  Jitter:DDP  MDVP:Shimmer  ...  \\\n",
              "0           0.00007   0.00370   0.00554     0.01109       0.04374  ...   \n",
              "1           0.00008   0.00465   0.00696     0.01394       0.06134  ...   \n",
              "2           0.00009   0.00544   0.00781     0.01633       0.05233  ...   \n",
              "3           0.00009   0.00502   0.00698     0.01505       0.05492  ...   \n",
              "4           0.00011   0.00655   0.00908     0.01966       0.06425  ...   \n",
              "\n",
              "   Shimmer:DDA      NHR     HNR  status      RPDE       DFA   spread1  \\\n",
              "0      0.06545  0.02211  21.033       1  0.414783  0.815285 -4.813031   \n",
              "1      0.09403  0.01929  19.085       1  0.458359  0.819521 -4.075192   \n",
              "2      0.08270  0.01309  20.651       1  0.429895  0.825288 -4.443179   \n",
              "3      0.08771  0.01353  20.644       1  0.434969  0.819235 -4.117501   \n",
              "4      0.10470  0.01767  19.649       1  0.417356  0.823484 -3.747787   \n",
              "\n",
              "    spread2        D2       PPE  \n",
              "0  0.266482  2.301442  0.284654  \n",
              "1  0.335590  2.486855  0.368674  \n",
              "2  0.311173  2.342259  0.332634  \n",
              "3  0.334147  2.405554  0.368975  \n",
              "4  0.234513  2.332180  0.410335  \n",
              "\n",
              "[5 rows x 24 columns]"
            ],
            "text/html": [
              "\n",
              "  <div id=\"df-a72d169c-eb25-46d0-817a-3dae2988c664\">\n",
              "    <div class=\"colab-df-container\">\n",
              "      <div>\n",
              "<style scoped>\n",
              "    .dataframe tbody tr th:only-of-type {\n",
              "        vertical-align: middle;\n",
              "    }\n",
              "\n",
              "    .dataframe tbody tr th {\n",
              "        vertical-align: top;\n",
              "    }\n",
              "\n",
              "    .dataframe thead th {\n",
              "        text-align: right;\n",
              "    }\n",
              "</style>\n",
              "<table border=\"1\" class=\"dataframe\">\n",
              "  <thead>\n",
              "    <tr style=\"text-align: right;\">\n",
              "      <th></th>\n",
              "      <th>name</th>\n",
              "      <th>MDVP:Fo(Hz)</th>\n",
              "      <th>MDVP:Fhi(Hz)</th>\n",
              "      <th>MDVP:Flo(Hz)</th>\n",
              "      <th>MDVP:Jitter(%)</th>\n",
              "      <th>MDVP:Jitter(Abs)</th>\n",
              "      <th>MDVP:RAP</th>\n",
              "      <th>MDVP:PPQ</th>\n",
              "      <th>Jitter:DDP</th>\n",
              "      <th>MDVP:Shimmer</th>\n",
              "      <th>...</th>\n",
              "      <th>Shimmer:DDA</th>\n",
              "      <th>NHR</th>\n",
              "      <th>HNR</th>\n",
              "      <th>status</th>\n",
              "      <th>RPDE</th>\n",
              "      <th>DFA</th>\n",
              "      <th>spread1</th>\n",
              "      <th>spread2</th>\n",
              "      <th>D2</th>\n",
              "      <th>PPE</th>\n",
              "    </tr>\n",
              "  </thead>\n",
              "  <tbody>\n",
              "    <tr>\n",
              "      <th>0</th>\n",
              "      <td>phon_R01_S01_1</td>\n",
              "      <td>119.992</td>\n",
              "      <td>157.302</td>\n",
              "      <td>74.997</td>\n",
              "      <td>0.00784</td>\n",
              "      <td>0.00007</td>\n",
              "      <td>0.00370</td>\n",
              "      <td>0.00554</td>\n",
              "      <td>0.01109</td>\n",
              "      <td>0.04374</td>\n",
              "      <td>...</td>\n",
              "      <td>0.06545</td>\n",
              "      <td>0.02211</td>\n",
              "      <td>21.033</td>\n",
              "      <td>1</td>\n",
              "      <td>0.414783</td>\n",
              "      <td>0.815285</td>\n",
              "      <td>-4.813031</td>\n",
              "      <td>0.266482</td>\n",
              "      <td>2.301442</td>\n",
              "      <td>0.284654</td>\n",
              "    </tr>\n",
              "    <tr>\n",
              "      <th>1</th>\n",
              "      <td>phon_R01_S01_2</td>\n",
              "      <td>122.400</td>\n",
              "      <td>148.650</td>\n",
              "      <td>113.819</td>\n",
              "      <td>0.00968</td>\n",
              "      <td>0.00008</td>\n",
              "      <td>0.00465</td>\n",
              "      <td>0.00696</td>\n",
              "      <td>0.01394</td>\n",
              "      <td>0.06134</td>\n",
              "      <td>...</td>\n",
              "      <td>0.09403</td>\n",
              "      <td>0.01929</td>\n",
              "      <td>19.085</td>\n",
              "      <td>1</td>\n",
              "      <td>0.458359</td>\n",
              "      <td>0.819521</td>\n",
              "      <td>-4.075192</td>\n",
              "      <td>0.335590</td>\n",
              "      <td>2.486855</td>\n",
              "      <td>0.368674</td>\n",
              "    </tr>\n",
              "    <tr>\n",
              "      <th>2</th>\n",
              "      <td>phon_R01_S01_3</td>\n",
              "      <td>116.682</td>\n",
              "      <td>131.111</td>\n",
              "      <td>111.555</td>\n",
              "      <td>0.01050</td>\n",
              "      <td>0.00009</td>\n",
              "      <td>0.00544</td>\n",
              "      <td>0.00781</td>\n",
              "      <td>0.01633</td>\n",
              "      <td>0.05233</td>\n",
              "      <td>...</td>\n",
              "      <td>0.08270</td>\n",
              "      <td>0.01309</td>\n",
              "      <td>20.651</td>\n",
              "      <td>1</td>\n",
              "      <td>0.429895</td>\n",
              "      <td>0.825288</td>\n",
              "      <td>-4.443179</td>\n",
              "      <td>0.311173</td>\n",
              "      <td>2.342259</td>\n",
              "      <td>0.332634</td>\n",
              "    </tr>\n",
              "    <tr>\n",
              "      <th>3</th>\n",
              "      <td>phon_R01_S01_4</td>\n",
              "      <td>116.676</td>\n",
              "      <td>137.871</td>\n",
              "      <td>111.366</td>\n",
              "      <td>0.00997</td>\n",
              "      <td>0.00009</td>\n",
              "      <td>0.00502</td>\n",
              "      <td>0.00698</td>\n",
              "      <td>0.01505</td>\n",
              "      <td>0.05492</td>\n",
              "      <td>...</td>\n",
              "      <td>0.08771</td>\n",
              "      <td>0.01353</td>\n",
              "      <td>20.644</td>\n",
              "      <td>1</td>\n",
              "      <td>0.434969</td>\n",
              "      <td>0.819235</td>\n",
              "      <td>-4.117501</td>\n",
              "      <td>0.334147</td>\n",
              "      <td>2.405554</td>\n",
              "      <td>0.368975</td>\n",
              "    </tr>\n",
              "    <tr>\n",
              "      <th>4</th>\n",
              "      <td>phon_R01_S01_5</td>\n",
              "      <td>116.014</td>\n",
              "      <td>141.781</td>\n",
              "      <td>110.655</td>\n",
              "      <td>0.01284</td>\n",
              "      <td>0.00011</td>\n",
              "      <td>0.00655</td>\n",
              "      <td>0.00908</td>\n",
              "      <td>0.01966</td>\n",
              "      <td>0.06425</td>\n",
              "      <td>...</td>\n",
              "      <td>0.10470</td>\n",
              "      <td>0.01767</td>\n",
              "      <td>19.649</td>\n",
              "      <td>1</td>\n",
              "      <td>0.417356</td>\n",
              "      <td>0.823484</td>\n",
              "      <td>-3.747787</td>\n",
              "      <td>0.234513</td>\n",
              "      <td>2.332180</td>\n",
              "      <td>0.410335</td>\n",
              "    </tr>\n",
              "  </tbody>\n",
              "</table>\n",
              "<p>5 rows × 24 columns</p>\n",
              "</div>\n",
              "      <button class=\"colab-df-convert\" onclick=\"convertToInteractive('df-a72d169c-eb25-46d0-817a-3dae2988c664')\"\n",
              "              title=\"Convert this dataframe to an interactive table.\"\n",
              "              style=\"display:none;\">\n",
              "        \n",
              "  <svg xmlns=\"http://www.w3.org/2000/svg\" height=\"24px\"viewBox=\"0 0 24 24\"\n",
              "       width=\"24px\">\n",
              "    <path d=\"M0 0h24v24H0V0z\" fill=\"none\"/>\n",
              "    <path d=\"M18.56 5.44l.94 2.06.94-2.06 2.06-.94-2.06-.94-.94-2.06-.94 2.06-2.06.94zm-11 1L8.5 8.5l.94-2.06 2.06-.94-2.06-.94L8.5 2.5l-.94 2.06-2.06.94zm10 10l.94 2.06.94-2.06 2.06-.94-2.06-.94-.94-2.06-.94 2.06-2.06.94z\"/><path d=\"M17.41 7.96l-1.37-1.37c-.4-.4-.92-.59-1.43-.59-.52 0-1.04.2-1.43.59L10.3 9.45l-7.72 7.72c-.78.78-.78 2.05 0 2.83L4 21.41c.39.39.9.59 1.41.59.51 0 1.02-.2 1.41-.59l7.78-7.78 2.81-2.81c.8-.78.8-2.07 0-2.86zM5.41 20L4 18.59l7.72-7.72 1.47 1.35L5.41 20z\"/>\n",
              "  </svg>\n",
              "      </button>\n",
              "      \n",
              "  <style>\n",
              "    .colab-df-container {\n",
              "      display:flex;\n",
              "      flex-wrap:wrap;\n",
              "      gap: 12px;\n",
              "    }\n",
              "\n",
              "    .colab-df-convert {\n",
              "      background-color: #E8F0FE;\n",
              "      border: none;\n",
              "      border-radius: 50%;\n",
              "      cursor: pointer;\n",
              "      display: none;\n",
              "      fill: #1967D2;\n",
              "      height: 32px;\n",
              "      padding: 0 0 0 0;\n",
              "      width: 32px;\n",
              "    }\n",
              "\n",
              "    .colab-df-convert:hover {\n",
              "      background-color: #E2EBFA;\n",
              "      box-shadow: 0px 1px 2px rgba(60, 64, 67, 0.3), 0px 1px 3px 1px rgba(60, 64, 67, 0.15);\n",
              "      fill: #174EA6;\n",
              "    }\n",
              "\n",
              "    [theme=dark] .colab-df-convert {\n",
              "      background-color: #3B4455;\n",
              "      fill: #D2E3FC;\n",
              "    }\n",
              "\n",
              "    [theme=dark] .colab-df-convert:hover {\n",
              "      background-color: #434B5C;\n",
              "      box-shadow: 0px 1px 3px 1px rgba(0, 0, 0, 0.15);\n",
              "      filter: drop-shadow(0px 1px 2px rgba(0, 0, 0, 0.3));\n",
              "      fill: #FFFFFF;\n",
              "    }\n",
              "  </style>\n",
              "\n",
              "      <script>\n",
              "        const buttonEl =\n",
              "          document.querySelector('#df-a72d169c-eb25-46d0-817a-3dae2988c664 button.colab-df-convert');\n",
              "        buttonEl.style.display =\n",
              "          google.colab.kernel.accessAllowed ? 'block' : 'none';\n",
              "\n",
              "        async function convertToInteractive(key) {\n",
              "          const element = document.querySelector('#df-a72d169c-eb25-46d0-817a-3dae2988c664');\n",
              "          const dataTable =\n",
              "            await google.colab.kernel.invokeFunction('convertToInteractive',\n",
              "                                                     [key], {});\n",
              "          if (!dataTable) return;\n",
              "\n",
              "          const docLinkHtml = 'Like what you see? Visit the ' +\n",
              "            '<a target=\"_blank\" href=https://colab.research.google.com/notebooks/data_table.ipynb>data table notebook</a>'\n",
              "            + ' to learn more about interactive tables.';\n",
              "          element.innerHTML = '';\n",
              "          dataTable['output_type'] = 'display_data';\n",
              "          await google.colab.output.renderOutput(dataTable, element);\n",
              "          const docLink = document.createElement('div');\n",
              "          docLink.innerHTML = docLinkHtml;\n",
              "          element.appendChild(docLink);\n",
              "        }\n",
              "      </script>\n",
              "    </div>\n",
              "  </div>\n",
              "  "
            ]
          },
          "metadata": {},
          "execution_count": 275
        }
      ]
    },
    {
      "cell_type": "markdown",
      "source": [
        "##**Data Information**"
      ],
      "metadata": {
        "id": "l9pP1HMHf2_V"
      }
    },
    {
      "cell_type": "code",
      "source": [
        "df.info()\n",
        "#There are 195 rows and 24 columns."
      ],
      "metadata": {
        "id": "2bCoCzsjl2Gf",
        "colab": {
          "base_uri": "https://localhost:8080/"
        },
        "outputId": "83d6ebc9-dc70-4d18-eb63-128c6da72d97"
      },
      "execution_count": 276,
      "outputs": [
        {
          "output_type": "stream",
          "name": "stdout",
          "text": [
            "<class 'pandas.core.frame.DataFrame'>\n",
            "RangeIndex: 195 entries, 0 to 194\n",
            "Data columns (total 24 columns):\n",
            " #   Column            Non-Null Count  Dtype  \n",
            "---  ------            --------------  -----  \n",
            " 0   name              195 non-null    object \n",
            " 1   MDVP:Fo(Hz)       195 non-null    float64\n",
            " 2   MDVP:Fhi(Hz)      195 non-null    float64\n",
            " 3   MDVP:Flo(Hz)      195 non-null    float64\n",
            " 4   MDVP:Jitter(%)    195 non-null    float64\n",
            " 5   MDVP:Jitter(Abs)  195 non-null    float64\n",
            " 6   MDVP:RAP          195 non-null    float64\n",
            " 7   MDVP:PPQ          195 non-null    float64\n",
            " 8   Jitter:DDP        195 non-null    float64\n",
            " 9   MDVP:Shimmer      195 non-null    float64\n",
            " 10  MDVP:Shimmer(dB)  195 non-null    float64\n",
            " 11  Shimmer:APQ3      195 non-null    float64\n",
            " 12  Shimmer:APQ5      195 non-null    float64\n",
            " 13  MDVP:APQ          195 non-null    float64\n",
            " 14  Shimmer:DDA       195 non-null    float64\n",
            " 15  NHR               195 non-null    float64\n",
            " 16  HNR               195 non-null    float64\n",
            " 17  status            195 non-null    int64  \n",
            " 18  RPDE              195 non-null    float64\n",
            " 19  DFA               195 non-null    float64\n",
            " 20  spread1           195 non-null    float64\n",
            " 21  spread2           195 non-null    float64\n",
            " 22  D2                195 non-null    float64\n",
            " 23  PPE               195 non-null    float64\n",
            "dtypes: float64(22), int64(1), object(1)\n",
            "memory usage: 36.7+ KB\n"
          ]
        }
      ]
    },
    {
      "cell_type": "markdown",
      "source": [
        "##**Data Types**"
      ],
      "metadata": {
        "id": "kId4ELuFgK6Y"
      }
    },
    {
      "cell_type": "code",
      "source": [
        "df.dtypes"
      ],
      "metadata": {
        "id": "1sGY4CW0gXdi",
        "colab": {
          "base_uri": "https://localhost:8080/"
        },
        "outputId": "772b973b-182b-4109-bae1-a59d3d1f71f6"
      },
      "execution_count": 277,
      "outputs": [
        {
          "output_type": "execute_result",
          "data": {
            "text/plain": [
              "name                 object\n",
              "MDVP:Fo(Hz)         float64\n",
              "MDVP:Fhi(Hz)        float64\n",
              "MDVP:Flo(Hz)        float64\n",
              "MDVP:Jitter(%)      float64\n",
              "MDVP:Jitter(Abs)    float64\n",
              "MDVP:RAP            float64\n",
              "MDVP:PPQ            float64\n",
              "Jitter:DDP          float64\n",
              "MDVP:Shimmer        float64\n",
              "MDVP:Shimmer(dB)    float64\n",
              "Shimmer:APQ3        float64\n",
              "Shimmer:APQ5        float64\n",
              "MDVP:APQ            float64\n",
              "Shimmer:DDA         float64\n",
              "NHR                 float64\n",
              "HNR                 float64\n",
              "status                int64\n",
              "RPDE                float64\n",
              "DFA                 float64\n",
              "spread1             float64\n",
              "spread2             float64\n",
              "D2                  float64\n",
              "PPE                 float64\n",
              "dtype: object"
            ]
          },
          "metadata": {},
          "execution_count": 277
        }
      ]
    },
    {
      "cell_type": "markdown",
      "source": [
        "##**Data Statistics**"
      ],
      "metadata": {
        "id": "dLh-fX0zgrEa"
      }
    },
    {
      "cell_type": "code",
      "source": [
        "df.describe().round(4)"
      ],
      "metadata": {
        "id": "U7tqKU9OnPOv",
        "colab": {
          "base_uri": "https://localhost:8080/",
          "height": 394
        },
        "outputId": "9b357ab3-244f-48ba-d32c-b5b082f305d4"
      },
      "execution_count": 278,
      "outputs": [
        {
          "output_type": "execute_result",
          "data": {
            "text/plain": [
              "       MDVP:Fo(Hz)  MDVP:Fhi(Hz)  MDVP:Flo(Hz)  MDVP:Jitter(%)  \\\n",
              "count     195.0000      195.0000      195.0000        195.0000   \n",
              "mean      154.2286      197.1049      116.3246          0.0062   \n",
              "std        41.3901       91.4915       43.5214          0.0048   \n",
              "min        88.3330      102.1450       65.4760          0.0017   \n",
              "25%       117.5720      134.8625       84.2910          0.0035   \n",
              "50%       148.7900      175.8290      104.3150          0.0049   \n",
              "75%       182.7690      224.2055      140.0185          0.0074   \n",
              "max       260.1050      592.0300      239.1700          0.0332   \n",
              "\n",
              "       MDVP:Jitter(Abs)  MDVP:RAP  MDVP:PPQ  Jitter:DDP  MDVP:Shimmer  \\\n",
              "count          195.0000  195.0000  195.0000    195.0000      195.0000   \n",
              "mean             0.0000    0.0033    0.0034      0.0099        0.0297   \n",
              "std              0.0000    0.0030    0.0028      0.0089        0.0189   \n",
              "min              0.0000    0.0007    0.0009      0.0020        0.0095   \n",
              "25%              0.0000    0.0017    0.0019      0.0050        0.0165   \n",
              "50%              0.0000    0.0025    0.0027      0.0075        0.0230   \n",
              "75%              0.0001    0.0038    0.0040      0.0115        0.0379   \n",
              "max              0.0003    0.0214    0.0196      0.0643        0.1191   \n",
              "\n",
              "       MDVP:Shimmer(dB)  ...  Shimmer:DDA       NHR       HNR    status  \\\n",
              "count          195.0000  ...     195.0000  195.0000  195.0000  195.0000   \n",
              "mean             0.2823  ...       0.0470    0.0248   21.8860    0.7538   \n",
              "std              0.1949  ...       0.0305    0.0404    4.4258    0.4319   \n",
              "min              0.0850  ...       0.0136    0.0006    8.4410    0.0000   \n",
              "25%              0.1485  ...       0.0247    0.0059   19.1980    1.0000   \n",
              "50%              0.2210  ...       0.0384    0.0117   22.0850    1.0000   \n",
              "75%              0.3500  ...       0.0608    0.0256   25.0755    1.0000   \n",
              "max              1.3020  ...       0.1694    0.3148   33.0470    1.0000   \n",
              "\n",
              "           RPDE       DFA   spread1   spread2        D2       PPE  \n",
              "count  195.0000  195.0000  195.0000  195.0000  195.0000  195.0000  \n",
              "mean     0.4985    0.7181   -5.6844    0.2265    2.3818    0.2066  \n",
              "std      0.1039    0.0553    1.0902    0.0834    0.3828    0.0901  \n",
              "min      0.2566    0.5743   -7.9650    0.0063    1.4233    0.0445  \n",
              "25%      0.4213    0.6748   -6.4501    0.1744    2.0991    0.1375  \n",
              "50%      0.4960    0.7223   -5.7209    0.2189    2.3615    0.1941  \n",
              "75%      0.5876    0.7619   -5.0462    0.2792    2.6365    0.2530  \n",
              "max      0.6852    0.8253   -2.4340    0.4505    3.6712    0.5274  \n",
              "\n",
              "[8 rows x 23 columns]"
            ],
            "text/html": [
              "\n",
              "  <div id=\"df-c21f026e-183f-4293-9d18-d52c2e4042b5\">\n",
              "    <div class=\"colab-df-container\">\n",
              "      <div>\n",
              "<style scoped>\n",
              "    .dataframe tbody tr th:only-of-type {\n",
              "        vertical-align: middle;\n",
              "    }\n",
              "\n",
              "    .dataframe tbody tr th {\n",
              "        vertical-align: top;\n",
              "    }\n",
              "\n",
              "    .dataframe thead th {\n",
              "        text-align: right;\n",
              "    }\n",
              "</style>\n",
              "<table border=\"1\" class=\"dataframe\">\n",
              "  <thead>\n",
              "    <tr style=\"text-align: right;\">\n",
              "      <th></th>\n",
              "      <th>MDVP:Fo(Hz)</th>\n",
              "      <th>MDVP:Fhi(Hz)</th>\n",
              "      <th>MDVP:Flo(Hz)</th>\n",
              "      <th>MDVP:Jitter(%)</th>\n",
              "      <th>MDVP:Jitter(Abs)</th>\n",
              "      <th>MDVP:RAP</th>\n",
              "      <th>MDVP:PPQ</th>\n",
              "      <th>Jitter:DDP</th>\n",
              "      <th>MDVP:Shimmer</th>\n",
              "      <th>MDVP:Shimmer(dB)</th>\n",
              "      <th>...</th>\n",
              "      <th>Shimmer:DDA</th>\n",
              "      <th>NHR</th>\n",
              "      <th>HNR</th>\n",
              "      <th>status</th>\n",
              "      <th>RPDE</th>\n",
              "      <th>DFA</th>\n",
              "      <th>spread1</th>\n",
              "      <th>spread2</th>\n",
              "      <th>D2</th>\n",
              "      <th>PPE</th>\n",
              "    </tr>\n",
              "  </thead>\n",
              "  <tbody>\n",
              "    <tr>\n",
              "      <th>count</th>\n",
              "      <td>195.0000</td>\n",
              "      <td>195.0000</td>\n",
              "      <td>195.0000</td>\n",
              "      <td>195.0000</td>\n",
              "      <td>195.0000</td>\n",
              "      <td>195.0000</td>\n",
              "      <td>195.0000</td>\n",
              "      <td>195.0000</td>\n",
              "      <td>195.0000</td>\n",
              "      <td>195.0000</td>\n",
              "      <td>...</td>\n",
              "      <td>195.0000</td>\n",
              "      <td>195.0000</td>\n",
              "      <td>195.0000</td>\n",
              "      <td>195.0000</td>\n",
              "      <td>195.0000</td>\n",
              "      <td>195.0000</td>\n",
              "      <td>195.0000</td>\n",
              "      <td>195.0000</td>\n",
              "      <td>195.0000</td>\n",
              "      <td>195.0000</td>\n",
              "    </tr>\n",
              "    <tr>\n",
              "      <th>mean</th>\n",
              "      <td>154.2286</td>\n",
              "      <td>197.1049</td>\n",
              "      <td>116.3246</td>\n",
              "      <td>0.0062</td>\n",
              "      <td>0.0000</td>\n",
              "      <td>0.0033</td>\n",
              "      <td>0.0034</td>\n",
              "      <td>0.0099</td>\n",
              "      <td>0.0297</td>\n",
              "      <td>0.2823</td>\n",
              "      <td>...</td>\n",
              "      <td>0.0470</td>\n",
              "      <td>0.0248</td>\n",
              "      <td>21.8860</td>\n",
              "      <td>0.7538</td>\n",
              "      <td>0.4985</td>\n",
              "      <td>0.7181</td>\n",
              "      <td>-5.6844</td>\n",
              "      <td>0.2265</td>\n",
              "      <td>2.3818</td>\n",
              "      <td>0.2066</td>\n",
              "    </tr>\n",
              "    <tr>\n",
              "      <th>std</th>\n",
              "      <td>41.3901</td>\n",
              "      <td>91.4915</td>\n",
              "      <td>43.5214</td>\n",
              "      <td>0.0048</td>\n",
              "      <td>0.0000</td>\n",
              "      <td>0.0030</td>\n",
              "      <td>0.0028</td>\n",
              "      <td>0.0089</td>\n",
              "      <td>0.0189</td>\n",
              "      <td>0.1949</td>\n",
              "      <td>...</td>\n",
              "      <td>0.0305</td>\n",
              "      <td>0.0404</td>\n",
              "      <td>4.4258</td>\n",
              "      <td>0.4319</td>\n",
              "      <td>0.1039</td>\n",
              "      <td>0.0553</td>\n",
              "      <td>1.0902</td>\n",
              "      <td>0.0834</td>\n",
              "      <td>0.3828</td>\n",
              "      <td>0.0901</td>\n",
              "    </tr>\n",
              "    <tr>\n",
              "      <th>min</th>\n",
              "      <td>88.3330</td>\n",
              "      <td>102.1450</td>\n",
              "      <td>65.4760</td>\n",
              "      <td>0.0017</td>\n",
              "      <td>0.0000</td>\n",
              "      <td>0.0007</td>\n",
              "      <td>0.0009</td>\n",
              "      <td>0.0020</td>\n",
              "      <td>0.0095</td>\n",
              "      <td>0.0850</td>\n",
              "      <td>...</td>\n",
              "      <td>0.0136</td>\n",
              "      <td>0.0006</td>\n",
              "      <td>8.4410</td>\n",
              "      <td>0.0000</td>\n",
              "      <td>0.2566</td>\n",
              "      <td>0.5743</td>\n",
              "      <td>-7.9650</td>\n",
              "      <td>0.0063</td>\n",
              "      <td>1.4233</td>\n",
              "      <td>0.0445</td>\n",
              "    </tr>\n",
              "    <tr>\n",
              "      <th>25%</th>\n",
              "      <td>117.5720</td>\n",
              "      <td>134.8625</td>\n",
              "      <td>84.2910</td>\n",
              "      <td>0.0035</td>\n",
              "      <td>0.0000</td>\n",
              "      <td>0.0017</td>\n",
              "      <td>0.0019</td>\n",
              "      <td>0.0050</td>\n",
              "      <td>0.0165</td>\n",
              "      <td>0.1485</td>\n",
              "      <td>...</td>\n",
              "      <td>0.0247</td>\n",
              "      <td>0.0059</td>\n",
              "      <td>19.1980</td>\n",
              "      <td>1.0000</td>\n",
              "      <td>0.4213</td>\n",
              "      <td>0.6748</td>\n",
              "      <td>-6.4501</td>\n",
              "      <td>0.1744</td>\n",
              "      <td>2.0991</td>\n",
              "      <td>0.1375</td>\n",
              "    </tr>\n",
              "    <tr>\n",
              "      <th>50%</th>\n",
              "      <td>148.7900</td>\n",
              "      <td>175.8290</td>\n",
              "      <td>104.3150</td>\n",
              "      <td>0.0049</td>\n",
              "      <td>0.0000</td>\n",
              "      <td>0.0025</td>\n",
              "      <td>0.0027</td>\n",
              "      <td>0.0075</td>\n",
              "      <td>0.0230</td>\n",
              "      <td>0.2210</td>\n",
              "      <td>...</td>\n",
              "      <td>0.0384</td>\n",
              "      <td>0.0117</td>\n",
              "      <td>22.0850</td>\n",
              "      <td>1.0000</td>\n",
              "      <td>0.4960</td>\n",
              "      <td>0.7223</td>\n",
              "      <td>-5.7209</td>\n",
              "      <td>0.2189</td>\n",
              "      <td>2.3615</td>\n",
              "      <td>0.1941</td>\n",
              "    </tr>\n",
              "    <tr>\n",
              "      <th>75%</th>\n",
              "      <td>182.7690</td>\n",
              "      <td>224.2055</td>\n",
              "      <td>140.0185</td>\n",
              "      <td>0.0074</td>\n",
              "      <td>0.0001</td>\n",
              "      <td>0.0038</td>\n",
              "      <td>0.0040</td>\n",
              "      <td>0.0115</td>\n",
              "      <td>0.0379</td>\n",
              "      <td>0.3500</td>\n",
              "      <td>...</td>\n",
              "      <td>0.0608</td>\n",
              "      <td>0.0256</td>\n",
              "      <td>25.0755</td>\n",
              "      <td>1.0000</td>\n",
              "      <td>0.5876</td>\n",
              "      <td>0.7619</td>\n",
              "      <td>-5.0462</td>\n",
              "      <td>0.2792</td>\n",
              "      <td>2.6365</td>\n",
              "      <td>0.2530</td>\n",
              "    </tr>\n",
              "    <tr>\n",
              "      <th>max</th>\n",
              "      <td>260.1050</td>\n",
              "      <td>592.0300</td>\n",
              "      <td>239.1700</td>\n",
              "      <td>0.0332</td>\n",
              "      <td>0.0003</td>\n",
              "      <td>0.0214</td>\n",
              "      <td>0.0196</td>\n",
              "      <td>0.0643</td>\n",
              "      <td>0.1191</td>\n",
              "      <td>1.3020</td>\n",
              "      <td>...</td>\n",
              "      <td>0.1694</td>\n",
              "      <td>0.3148</td>\n",
              "      <td>33.0470</td>\n",
              "      <td>1.0000</td>\n",
              "      <td>0.6852</td>\n",
              "      <td>0.8253</td>\n",
              "      <td>-2.4340</td>\n",
              "      <td>0.4505</td>\n",
              "      <td>3.6712</td>\n",
              "      <td>0.5274</td>\n",
              "    </tr>\n",
              "  </tbody>\n",
              "</table>\n",
              "<p>8 rows × 23 columns</p>\n",
              "</div>\n",
              "      <button class=\"colab-df-convert\" onclick=\"convertToInteractive('df-c21f026e-183f-4293-9d18-d52c2e4042b5')\"\n",
              "              title=\"Convert this dataframe to an interactive table.\"\n",
              "              style=\"display:none;\">\n",
              "        \n",
              "  <svg xmlns=\"http://www.w3.org/2000/svg\" height=\"24px\"viewBox=\"0 0 24 24\"\n",
              "       width=\"24px\">\n",
              "    <path d=\"M0 0h24v24H0V0z\" fill=\"none\"/>\n",
              "    <path d=\"M18.56 5.44l.94 2.06.94-2.06 2.06-.94-2.06-.94-.94-2.06-.94 2.06-2.06.94zm-11 1L8.5 8.5l.94-2.06 2.06-.94-2.06-.94L8.5 2.5l-.94 2.06-2.06.94zm10 10l.94 2.06.94-2.06 2.06-.94-2.06-.94-.94-2.06-.94 2.06-2.06.94z\"/><path d=\"M17.41 7.96l-1.37-1.37c-.4-.4-.92-.59-1.43-.59-.52 0-1.04.2-1.43.59L10.3 9.45l-7.72 7.72c-.78.78-.78 2.05 0 2.83L4 21.41c.39.39.9.59 1.41.59.51 0 1.02-.2 1.41-.59l7.78-7.78 2.81-2.81c.8-.78.8-2.07 0-2.86zM5.41 20L4 18.59l7.72-7.72 1.47 1.35L5.41 20z\"/>\n",
              "  </svg>\n",
              "      </button>\n",
              "      \n",
              "  <style>\n",
              "    .colab-df-container {\n",
              "      display:flex;\n",
              "      flex-wrap:wrap;\n",
              "      gap: 12px;\n",
              "    }\n",
              "\n",
              "    .colab-df-convert {\n",
              "      background-color: #E8F0FE;\n",
              "      border: none;\n",
              "      border-radius: 50%;\n",
              "      cursor: pointer;\n",
              "      display: none;\n",
              "      fill: #1967D2;\n",
              "      height: 32px;\n",
              "      padding: 0 0 0 0;\n",
              "      width: 32px;\n",
              "    }\n",
              "\n",
              "    .colab-df-convert:hover {\n",
              "      background-color: #E2EBFA;\n",
              "      box-shadow: 0px 1px 2px rgba(60, 64, 67, 0.3), 0px 1px 3px 1px rgba(60, 64, 67, 0.15);\n",
              "      fill: #174EA6;\n",
              "    }\n",
              "\n",
              "    [theme=dark] .colab-df-convert {\n",
              "      background-color: #3B4455;\n",
              "      fill: #D2E3FC;\n",
              "    }\n",
              "\n",
              "    [theme=dark] .colab-df-convert:hover {\n",
              "      background-color: #434B5C;\n",
              "      box-shadow: 0px 1px 3px 1px rgba(0, 0, 0, 0.15);\n",
              "      filter: drop-shadow(0px 1px 2px rgba(0, 0, 0, 0.3));\n",
              "      fill: #FFFFFF;\n",
              "    }\n",
              "  </style>\n",
              "\n",
              "      <script>\n",
              "        const buttonEl =\n",
              "          document.querySelector('#df-c21f026e-183f-4293-9d18-d52c2e4042b5 button.colab-df-convert');\n",
              "        buttonEl.style.display =\n",
              "          google.colab.kernel.accessAllowed ? 'block' : 'none';\n",
              "\n",
              "        async function convertToInteractive(key) {\n",
              "          const element = document.querySelector('#df-c21f026e-183f-4293-9d18-d52c2e4042b5');\n",
              "          const dataTable =\n",
              "            await google.colab.kernel.invokeFunction('convertToInteractive',\n",
              "                                                     [key], {});\n",
              "          if (!dataTable) return;\n",
              "\n",
              "          const docLinkHtml = 'Like what you see? Visit the ' +\n",
              "            '<a target=\"_blank\" href=https://colab.research.google.com/notebooks/data_table.ipynb>data table notebook</a>'\n",
              "            + ' to learn more about interactive tables.';\n",
              "          element.innerHTML = '';\n",
              "          dataTable['output_type'] = 'display_data';\n",
              "          await google.colab.output.renderOutput(dataTable, element);\n",
              "          const docLink = document.createElement('div');\n",
              "          docLink.innerHTML = docLinkHtml;\n",
              "          element.appendChild(docLink);\n",
              "        }\n",
              "      </script>\n",
              "    </div>\n",
              "  </div>\n",
              "  "
            ]
          },
          "metadata": {},
          "execution_count": 278
        }
      ]
    },
    {
      "cell_type": "markdown",
      "source": [
        "Some columns have been observed to contain outliers. This will be investigated further and the neccessary action would be taken."
      ],
      "metadata": {
        "id": "3Ui01t1ZKJf5"
      }
    },
    {
      "cell_type": "markdown",
      "source": [
        "##**Data Cleaning Process**"
      ],
      "metadata": {
        "id": "6ea2cJeBgCoM"
      }
    },
    {
      "cell_type": "markdown",
      "source": [
        "###**Irrelevant Columns**"
      ],
      "metadata": {
        "id": "88sPgOU3hD6Z"
      }
    },
    {
      "cell_type": "markdown",
      "source": [
        "The names of the individuals whose voices were recorded for this data set is of no relevance to this project and hence will be dropped."
      ],
      "metadata": {
        "id": "aVUGWLigiet1"
      }
    },
    {
      "cell_type": "code",
      "source": [
        "#Column \"name\" is not relevant to the prediction.\n",
        "df = df.drop(columns = \"name\")\n",
        "#Confirming changes\n",
        "df.head(2)"
      ],
      "metadata": {
        "id": "n14Ej1Zfmvkd",
        "colab": {
          "base_uri": "https://localhost:8080/",
          "height": 206
        },
        "outputId": "4697f274-edaa-40ff-9fa8-314df2a7247b"
      },
      "execution_count": 279,
      "outputs": [
        {
          "output_type": "execute_result",
          "data": {
            "text/plain": [
              "   MDVP:Fo(Hz)  MDVP:Fhi(Hz)  MDVP:Flo(Hz)  MDVP:Jitter(%)  MDVP:Jitter(Abs)  \\\n",
              "0      119.992       157.302        74.997         0.00784           0.00007   \n",
              "1      122.400       148.650       113.819         0.00968           0.00008   \n",
              "\n",
              "   MDVP:RAP  MDVP:PPQ  Jitter:DDP  MDVP:Shimmer  MDVP:Shimmer(dB)  ...  \\\n",
              "0   0.00370   0.00554     0.01109       0.04374             0.426  ...   \n",
              "1   0.00465   0.00696     0.01394       0.06134             0.626  ...   \n",
              "\n",
              "   Shimmer:DDA      NHR     HNR  status      RPDE       DFA   spread1  \\\n",
              "0      0.06545  0.02211  21.033       1  0.414783  0.815285 -4.813031   \n",
              "1      0.09403  0.01929  19.085       1  0.458359  0.819521 -4.075192   \n",
              "\n",
              "    spread2        D2       PPE  \n",
              "0  0.266482  2.301442  0.284654  \n",
              "1  0.335590  2.486855  0.368674  \n",
              "\n",
              "[2 rows x 23 columns]"
            ],
            "text/html": [
              "\n",
              "  <div id=\"df-9f63347c-8f09-45d4-8572-480407562758\">\n",
              "    <div class=\"colab-df-container\">\n",
              "      <div>\n",
              "<style scoped>\n",
              "    .dataframe tbody tr th:only-of-type {\n",
              "        vertical-align: middle;\n",
              "    }\n",
              "\n",
              "    .dataframe tbody tr th {\n",
              "        vertical-align: top;\n",
              "    }\n",
              "\n",
              "    .dataframe thead th {\n",
              "        text-align: right;\n",
              "    }\n",
              "</style>\n",
              "<table border=\"1\" class=\"dataframe\">\n",
              "  <thead>\n",
              "    <tr style=\"text-align: right;\">\n",
              "      <th></th>\n",
              "      <th>MDVP:Fo(Hz)</th>\n",
              "      <th>MDVP:Fhi(Hz)</th>\n",
              "      <th>MDVP:Flo(Hz)</th>\n",
              "      <th>MDVP:Jitter(%)</th>\n",
              "      <th>MDVP:Jitter(Abs)</th>\n",
              "      <th>MDVP:RAP</th>\n",
              "      <th>MDVP:PPQ</th>\n",
              "      <th>Jitter:DDP</th>\n",
              "      <th>MDVP:Shimmer</th>\n",
              "      <th>MDVP:Shimmer(dB)</th>\n",
              "      <th>...</th>\n",
              "      <th>Shimmer:DDA</th>\n",
              "      <th>NHR</th>\n",
              "      <th>HNR</th>\n",
              "      <th>status</th>\n",
              "      <th>RPDE</th>\n",
              "      <th>DFA</th>\n",
              "      <th>spread1</th>\n",
              "      <th>spread2</th>\n",
              "      <th>D2</th>\n",
              "      <th>PPE</th>\n",
              "    </tr>\n",
              "  </thead>\n",
              "  <tbody>\n",
              "    <tr>\n",
              "      <th>0</th>\n",
              "      <td>119.992</td>\n",
              "      <td>157.302</td>\n",
              "      <td>74.997</td>\n",
              "      <td>0.00784</td>\n",
              "      <td>0.00007</td>\n",
              "      <td>0.00370</td>\n",
              "      <td>0.00554</td>\n",
              "      <td>0.01109</td>\n",
              "      <td>0.04374</td>\n",
              "      <td>0.426</td>\n",
              "      <td>...</td>\n",
              "      <td>0.06545</td>\n",
              "      <td>0.02211</td>\n",
              "      <td>21.033</td>\n",
              "      <td>1</td>\n",
              "      <td>0.414783</td>\n",
              "      <td>0.815285</td>\n",
              "      <td>-4.813031</td>\n",
              "      <td>0.266482</td>\n",
              "      <td>2.301442</td>\n",
              "      <td>0.284654</td>\n",
              "    </tr>\n",
              "    <tr>\n",
              "      <th>1</th>\n",
              "      <td>122.400</td>\n",
              "      <td>148.650</td>\n",
              "      <td>113.819</td>\n",
              "      <td>0.00968</td>\n",
              "      <td>0.00008</td>\n",
              "      <td>0.00465</td>\n",
              "      <td>0.00696</td>\n",
              "      <td>0.01394</td>\n",
              "      <td>0.06134</td>\n",
              "      <td>0.626</td>\n",
              "      <td>...</td>\n",
              "      <td>0.09403</td>\n",
              "      <td>0.01929</td>\n",
              "      <td>19.085</td>\n",
              "      <td>1</td>\n",
              "      <td>0.458359</td>\n",
              "      <td>0.819521</td>\n",
              "      <td>-4.075192</td>\n",
              "      <td>0.335590</td>\n",
              "      <td>2.486855</td>\n",
              "      <td>0.368674</td>\n",
              "    </tr>\n",
              "  </tbody>\n",
              "</table>\n",
              "<p>2 rows × 23 columns</p>\n",
              "</div>\n",
              "      <button class=\"colab-df-convert\" onclick=\"convertToInteractive('df-9f63347c-8f09-45d4-8572-480407562758')\"\n",
              "              title=\"Convert this dataframe to an interactive table.\"\n",
              "              style=\"display:none;\">\n",
              "        \n",
              "  <svg xmlns=\"http://www.w3.org/2000/svg\" height=\"24px\"viewBox=\"0 0 24 24\"\n",
              "       width=\"24px\">\n",
              "    <path d=\"M0 0h24v24H0V0z\" fill=\"none\"/>\n",
              "    <path d=\"M18.56 5.44l.94 2.06.94-2.06 2.06-.94-2.06-.94-.94-2.06-.94 2.06-2.06.94zm-11 1L8.5 8.5l.94-2.06 2.06-.94-2.06-.94L8.5 2.5l-.94 2.06-2.06.94zm10 10l.94 2.06.94-2.06 2.06-.94-2.06-.94-.94-2.06-.94 2.06-2.06.94z\"/><path d=\"M17.41 7.96l-1.37-1.37c-.4-.4-.92-.59-1.43-.59-.52 0-1.04.2-1.43.59L10.3 9.45l-7.72 7.72c-.78.78-.78 2.05 0 2.83L4 21.41c.39.39.9.59 1.41.59.51 0 1.02-.2 1.41-.59l7.78-7.78 2.81-2.81c.8-.78.8-2.07 0-2.86zM5.41 20L4 18.59l7.72-7.72 1.47 1.35L5.41 20z\"/>\n",
              "  </svg>\n",
              "      </button>\n",
              "      \n",
              "  <style>\n",
              "    .colab-df-container {\n",
              "      display:flex;\n",
              "      flex-wrap:wrap;\n",
              "      gap: 12px;\n",
              "    }\n",
              "\n",
              "    .colab-df-convert {\n",
              "      background-color: #E8F0FE;\n",
              "      border: none;\n",
              "      border-radius: 50%;\n",
              "      cursor: pointer;\n",
              "      display: none;\n",
              "      fill: #1967D2;\n",
              "      height: 32px;\n",
              "      padding: 0 0 0 0;\n",
              "      width: 32px;\n",
              "    }\n",
              "\n",
              "    .colab-df-convert:hover {\n",
              "      background-color: #E2EBFA;\n",
              "      box-shadow: 0px 1px 2px rgba(60, 64, 67, 0.3), 0px 1px 3px 1px rgba(60, 64, 67, 0.15);\n",
              "      fill: #174EA6;\n",
              "    }\n",
              "\n",
              "    [theme=dark] .colab-df-convert {\n",
              "      background-color: #3B4455;\n",
              "      fill: #D2E3FC;\n",
              "    }\n",
              "\n",
              "    [theme=dark] .colab-df-convert:hover {\n",
              "      background-color: #434B5C;\n",
              "      box-shadow: 0px 1px 3px 1px rgba(0, 0, 0, 0.15);\n",
              "      filter: drop-shadow(0px 1px 2px rgba(0, 0, 0, 0.3));\n",
              "      fill: #FFFFFF;\n",
              "    }\n",
              "  </style>\n",
              "\n",
              "      <script>\n",
              "        const buttonEl =\n",
              "          document.querySelector('#df-9f63347c-8f09-45d4-8572-480407562758 button.colab-df-convert');\n",
              "        buttonEl.style.display =\n",
              "          google.colab.kernel.accessAllowed ? 'block' : 'none';\n",
              "\n",
              "        async function convertToInteractive(key) {\n",
              "          const element = document.querySelector('#df-9f63347c-8f09-45d4-8572-480407562758');\n",
              "          const dataTable =\n",
              "            await google.colab.kernel.invokeFunction('convertToInteractive',\n",
              "                                                     [key], {});\n",
              "          if (!dataTable) return;\n",
              "\n",
              "          const docLinkHtml = 'Like what you see? Visit the ' +\n",
              "            '<a target=\"_blank\" href=https://colab.research.google.com/notebooks/data_table.ipynb>data table notebook</a>'\n",
              "            + ' to learn more about interactive tables.';\n",
              "          element.innerHTML = '';\n",
              "          dataTable['output_type'] = 'display_data';\n",
              "          await google.colab.output.renderOutput(dataTable, element);\n",
              "          const docLink = document.createElement('div');\n",
              "          docLink.innerHTML = docLinkHtml;\n",
              "          element.appendChild(docLink);\n",
              "        }\n",
              "      </script>\n",
              "    </div>\n",
              "  </div>\n",
              "  "
            ]
          },
          "metadata": {},
          "execution_count": 279
        }
      ]
    },
    {
      "cell_type": "markdown",
      "source": [
        "##**Removal of Duplicates**"
      ],
      "metadata": {
        "id": "APLCbkJLhz4w"
      }
    },
    {
      "cell_type": "code",
      "source": [
        "print(f'Duplicates: {df.duplicated().sum()}')"
      ],
      "metadata": {
        "id": "kDj-uHA7nEsX",
        "colab": {
          "base_uri": "https://localhost:8080/"
        },
        "outputId": "486eed40-0ac3-4a43-d4d4-70eb783e72cf"
      },
      "execution_count": 280,
      "outputs": [
        {
          "output_type": "stream",
          "name": "stdout",
          "text": [
            "Duplicates: 0\n"
          ]
        }
      ]
    },
    {
      "cell_type": "markdown",
      "source": [
        "There are no duplicates in this data set."
      ],
      "metadata": {
        "id": "KI-sIpT_iCn_"
      }
    },
    {
      "cell_type": "markdown",
      "source": [
        "##**Checking for null Values**"
      ],
      "metadata": {
        "id": "j-e0jBxni1qY"
      }
    },
    {
      "cell_type": "code",
      "source": [
        "df.isnull().sum()\n",
        "#There are no null values in this data set"
      ],
      "metadata": {
        "id": "XtTVwyW9nKna",
        "colab": {
          "base_uri": "https://localhost:8080/"
        },
        "outputId": "df946035-d5d0-4c07-bd62-446a85aa7368"
      },
      "execution_count": 281,
      "outputs": [
        {
          "output_type": "execute_result",
          "data": {
            "text/plain": [
              "MDVP:Fo(Hz)         0\n",
              "MDVP:Fhi(Hz)        0\n",
              "MDVP:Flo(Hz)        0\n",
              "MDVP:Jitter(%)      0\n",
              "MDVP:Jitter(Abs)    0\n",
              "MDVP:RAP            0\n",
              "MDVP:PPQ            0\n",
              "Jitter:DDP          0\n",
              "MDVP:Shimmer        0\n",
              "MDVP:Shimmer(dB)    0\n",
              "Shimmer:APQ3        0\n",
              "Shimmer:APQ5        0\n",
              "MDVP:APQ            0\n",
              "Shimmer:DDA         0\n",
              "NHR                 0\n",
              "HNR                 0\n",
              "status              0\n",
              "RPDE                0\n",
              "DFA                 0\n",
              "spread1             0\n",
              "spread2             0\n",
              "D2                  0\n",
              "PPE                 0\n",
              "dtype: int64"
            ]
          },
          "metadata": {},
          "execution_count": 281
        }
      ]
    },
    {
      "cell_type": "markdown",
      "source": [
        "There are no null values in this data set."
      ],
      "metadata": {
        "id": "ASgTPIIAiKRM"
      }
    },
    {
      "cell_type": "markdown",
      "source": [
        "##**Checking of inconsistencies(Outliers) in data**"
      ],
      "metadata": {
        "id": "bz-VAXObjDl4"
      }
    },
    {
      "cell_type": "markdown",
      "source": [
        "###**Outliers**"
      ],
      "metadata": {
        "id": "2RsYbBEsI-zb"
      }
    },
    {
      "cell_type": "code",
      "source": [
        "#Creating a funcution to check outliers across all columns.\n",
        "\n",
        "for column_name in df.columns:\n",
        "   q1 = df[column_name].quantile(0.25) # 25th percentile\n",
        "   q3 = df[column_name].quantile(0.75) # 75th percentile\n",
        "   iqr = q3 - q1 # Interquartile range\n",
        "\n",
        "   low_limit = q1 - (1.5 * iqr) # low limit\n",
        "   high_limit = q3 + (1.5 * iqr) # high limit\n",
        "\n",
        "# Create outlier dataframes\n",
        "   low_df = df[(df[column_name] < low_limit)]\n",
        "   high_df = df[(df[column_name] > high_limit)]\n",
        "\n",
        "# Calculate the outlier counts and percentages\n",
        "   low_oulier_count = low_df.shape[0]\n",
        "   low_outlier_percentge = round(((low_oulier_count)/(df.shape[0])*100),1)\n",
        "   high_oulier_count = high_df.shape[0]\n",
        "   high_outlier_percentge = round(((high_oulier_count)/(df.shape[0])*100),1)\n",
        "\n",
        "  \n",
        "   print(f'\\n{column_name}:\\n  Low Outliers:{low_oulier_count} ({low_outlier_percentge}%),          High Outliers: {high_oulier_count} ({high_outlier_percentge}%)')\n",
        "  "
      ],
      "metadata": {
        "id": "VQkwkpt0BdT6",
        "colab": {
          "base_uri": "https://localhost:8080/"
        },
        "outputId": "11a10566-8f3d-43cd-aa19-e02a4ab2ed53"
      },
      "execution_count": 282,
      "outputs": [
        {
          "output_type": "stream",
          "name": "stdout",
          "text": [
            "\n",
            "MDVP:Fo(Hz):\n",
            "  Low Outliers:0 (0.0%),          High Outliers: 0 (0.0%)\n",
            "\n",
            "MDVP:Fhi(Hz):\n",
            "  Low Outliers:0 (0.0%),          High Outliers: 11 (5.6%)\n",
            "\n",
            "MDVP:Flo(Hz):\n",
            "  Low Outliers:0 (0.0%),          High Outliers: 9 (4.6%)\n",
            "\n",
            "MDVP:Jitter(%):\n",
            "  Low Outliers:0 (0.0%),          High Outliers: 14 (7.2%)\n",
            "\n",
            "MDVP:Jitter(Abs):\n",
            "  Low Outliers:0 (0.0%),          High Outliers: 7 (3.6%)\n",
            "\n",
            "MDVP:RAP:\n",
            "  Low Outliers:0 (0.0%),          High Outliers: 14 (7.2%)\n",
            "\n",
            "MDVP:PPQ:\n",
            "  Low Outliers:0 (0.0%),          High Outliers: 15 (7.7%)\n",
            "\n",
            "Jitter:DDP:\n",
            "  Low Outliers:0 (0.0%),          High Outliers: 14 (7.2%)\n",
            "\n",
            "MDVP:Shimmer:\n",
            "  Low Outliers:0 (0.0%),          High Outliers: 8 (4.1%)\n",
            "\n",
            "MDVP:Shimmer(dB):\n",
            "  Low Outliers:0 (0.0%),          High Outliers: 10 (5.1%)\n",
            "\n",
            "Shimmer:APQ3:\n",
            "  Low Outliers:0 (0.0%),          High Outliers: 6 (3.1%)\n",
            "\n",
            "Shimmer:APQ5:\n",
            "  Low Outliers:0 (0.0%),          High Outliers: 13 (6.7%)\n",
            "\n",
            "MDVP:APQ:\n",
            "  Low Outliers:0 (0.0%),          High Outliers: 12 (6.2%)\n",
            "\n",
            "Shimmer:DDA:\n",
            "  Low Outliers:0 (0.0%),          High Outliers: 6 (3.1%)\n",
            "\n",
            "NHR:\n",
            "  Low Outliers:0 (0.0%),          High Outliers: 19 (9.7%)\n",
            "\n",
            "HNR:\n",
            "  Low Outliers:3 (1.5%),          High Outliers: 0 (0.0%)\n",
            "\n",
            "status:\n",
            "  Low Outliers:48 (24.6%),          High Outliers: 0 (0.0%)\n",
            "\n",
            "RPDE:\n",
            "  Low Outliers:0 (0.0%),          High Outliers: 0 (0.0%)\n",
            "\n",
            "DFA:\n",
            "  Low Outliers:0 (0.0%),          High Outliers: 0 (0.0%)\n",
            "\n",
            "spread1:\n",
            "  Low Outliers:0 (0.0%),          High Outliers: 4 (2.1%)\n",
            "\n",
            "spread2:\n",
            "  Low Outliers:1 (0.5%),          High Outliers: 1 (0.5%)\n",
            "\n",
            "D2:\n",
            "  Low Outliers:0 (0.0%),          High Outliers: 1 (0.5%)\n",
            "\n",
            "PPE:\n",
            "  Low Outliers:0 (0.0%),          High Outliers: 5 (2.6%)\n"
          ]
        }
      ]
    },
    {
      "cell_type": "markdown",
      "source": [
        "The outliers of each column are less than 8% of the total percentage of values of the column, therefore all enteries with outliers will be located and dropped."
      ],
      "metadata": {
        "id": "XahpVEgaKvVe"
      }
    },
    {
      "cell_type": "markdown",
      "source": [
        "###**Exploring relations between all features and target feature, \"status\" using a barchart and a boxplot and removing outliers along the way**"
      ],
      "metadata": {
        "id": "eexqjQiIThnz"
      }
    },
    {
      "cell_type": "code",
      "source": [
        "def bar (u,v):\n",
        "  plt.rcParams[\"figure.figsize\"] = [28, 6]\n",
        "  f, axes =plt.subplots(1,4)\n",
        "  sns.set_theme(style=\"whitegrid\")\n",
        "  sns.barplot(ax = axes[0], x=\"status\", y=u, data=df)\n",
        "  sns.boxplot(ax = axes[1], x=\"status\", y=u, data=df)\n",
        "  sns.barplot(ax = axes[2], x=\"status\", y=v, data=df)\n",
        "  sns.boxplot(ax = axes[3], x=\"status\", y=v, data=df)\n",
        "\n"
      ],
      "metadata": {
        "id": "VVxyRpjV8RgP"
      },
      "execution_count": 283,
      "outputs": []
    },
    {
      "cell_type": "markdown",
      "source": [
        "**Defining a function to return the index numbers of all outliers which will be used in removing excessive outliers.**"
      ],
      "metadata": {
        "id": "FoERxgBxrUtG"
      }
    },
    {
      "cell_type": "code",
      "source": [
        "def outliers (column_name, num):\n",
        "  df[column_name] > num\n",
        "  print( df[df[column_name] > num].index)\n"
      ],
      "metadata": {
        "id": "Hi8X2sJbL8Xj"
      },
      "execution_count": 284,
      "outputs": []
    },
    {
      "cell_type": "code",
      "source": [
        "bar(\"MDVP:Fo(Hz)\", \"MDVP:Fhi(Hz)\")"
      ],
      "metadata": {
        "id": "3izL7_Ih9U_r",
        "colab": {
          "base_uri": "https://localhost:8080/",
          "height": 275
        },
        "outputId": "a117b1e5-83e7-4a5d-a3ba-262e58075b00"
      },
      "execution_count": 285,
      "outputs": [
        {
          "output_type": "display_data",
          "data": {
            "text/plain": [
              "<Figure size 2016x432 with 4 Axes>"
            ],
            "image/png": "[encoded data removed]"
          },
          "metadata": {}
        }
      ]
    },
    {
      "cell_type": "markdown",
      "source": [
        "Individuals with PD have a lower MDVP:fo(HZ) and MDVP:fhi(HZ) than those who dont have it. No outliers were found for the MDVP:fo(HZ) but the MDVP:fhi(HZ) had some outliers as seen in the boxplot. "
      ],
      "metadata": {
        "id": "jXUcfdyiT1TC"
      }
    },
    {
      "cell_type": "code",
      "source": [
        "#Locating the index numbers of enteries with outlier values.\n",
        "outliers(\"MDVP:Fhi(Hz)\", 400)"
      ],
      "metadata": {
        "id": "7KTIH5pcVeWx",
        "colab": {
          "base_uri": "https://localhost:8080/"
        },
        "outputId": "f77a0e56-c848-4fc1-d961-c6b35b7d5de5"
      },
      "execution_count": 286,
      "outputs": [
        {
          "output_type": "stream",
          "name": "stdout",
          "text": [
            "Int64Index([73, 102, 115, 116, 117, 118, 120, 149, 186, 187], dtype='int64')\n"
          ]
        }
      ]
    },
    {
      "cell_type": "code",
      "source": [
        "bar(\"MDVP:Flo(Hz)\", \"MDVP:Jitter(%)\")"
      ],
      "metadata": {
        "id": "goeHWm5MQVKP",
        "colab": {
          "base_uri": "https://localhost:8080/",
          "height": 275
        },
        "outputId": "3a2f5e6f-74e4-40c5-95d9-e9ae1bf0587f"
      },
      "execution_count": 287,
      "outputs": [
        {
          "output_type": "display_data",
          "data": {
            "text/plain": [
              "<Figure size 2016x432 with 4 Axes>"
            ],
            "image/png": "[encoded data removed]"
          },
          "metadata": {}
        }
      ]
    },
    {
      "cell_type": "markdown",
      "source": [
        "The MDVP:Flo(Hz) appears to be higher in those with PD and lower in those without it. The MDVP:Jitter(%) however is lower in those with PD and higher in those without it. It also contains some outliers. "
      ],
      "metadata": {
        "id": "KfLQb6c_VJZg"
      }
    },
    {
      "cell_type": "code",
      "source": [
        "#Locating the index numbers of enteries with outlier values.\n",
        "outliers(\"MDVP:Jitter(%)\", 0.013)"
      ],
      "metadata": {
        "id": "lWpmAxUEVrm5",
        "colab": {
          "base_uri": "https://localhost:8080/"
        },
        "outputId": "ae1b241d-0a09-4fe1-d619-34254184811c"
      },
      "execution_count": 288,
      "outputs": [
        {
          "output_type": "stream",
          "name": "stdout",
          "text": [
            "Int64Index([98, 99, 100, 101, 102, 146, 147, 148, 149, 150, 151, 152, 157,\n",
            "            192],\n",
            "           dtype='int64')\n"
          ]
        }
      ]
    },
    {
      "cell_type": "code",
      "source": [
        "bar(\"MDVP:PPQ\",\"Jitter:DDP\")"
      ],
      "metadata": {
        "id": "J1KQemi9Qkck",
        "colab": {
          "base_uri": "https://localhost:8080/",
          "height": 274
        },
        "outputId": "3044f382-cb18-47f2-dc57-1668fab0a696"
      },
      "execution_count": 289,
      "outputs": [
        {
          "output_type": "display_data",
          "data": {
            "text/plain": [
              "<Figure size 2016x432 with 4 Axes>"
            ],
            "image/png": "[encoded data removed]"
          },
          "metadata": {}
        }
      ]
    },
    {
      "cell_type": "markdown",
      "source": [
        "Both MDVP:PPQ and Jitter:DDP have lower values in PD patients than that of those without it and They both contain outliers."
      ],
      "metadata": {
        "id": "REycDIDNCplg"
      }
    },
    {
      "cell_type": "code",
      "source": [
        "#Locating the index numbers of enteries with outlier values.\n",
        "outliers(\"MDVP:PPQ\",0.007)\n",
        "outliers(\"Jitter:DDP\", 0.02)"
      ],
      "metadata": {
        "id": "xNTO7FyTgJuA",
        "colab": {
          "base_uri": "https://localhost:8080/"
        },
        "outputId": "cd55df56-8c42-4f02-ba81-883e96d16b03"
      },
      "execution_count": 290,
      "outputs": [
        {
          "output_type": "stream",
          "name": "stdout",
          "text": [
            "Int64Index([2, 4, 5, 99, 100, 101, 102, 146, 147, 148, 149, 150, 151, 152,\n",
            "            157],\n",
            "           dtype='int64')\n",
            "Int64Index([97, 98, 99, 100, 101, 102, 146, 147, 148, 149, 150, 151, 152, 157], dtype='int64')\n"
          ]
        }
      ]
    },
    {
      "cell_type": "code",
      "source": [
        "bar(\"MDVP:Jitter(Abs)\",\"MDVP:RAP\")"
      ],
      "metadata": {
        "id": "2LUqsOKhCqFA",
        "colab": {
          "base_uri": "https://localhost:8080/",
          "height": 286
        },
        "outputId": "9a16740a-3543-4493-d000-bf2992864abc"
      },
      "execution_count": 291,
      "outputs": [
        {
          "output_type": "display_data",
          "data": {
            "text/plain": [
              "<Figure size 2016x432 with 4 Axes>"
            ],
            "image/png": "[encoded data removed]"
          },
          "metadata": {}
        }
      ]
    },
    {
      "cell_type": "markdown",
      "source": [
        "The values in MDVP:Jitter(Abs) and MDVP:RAP are much lower in individuals with PD than those without it and they both contain outliers."
      ],
      "metadata": {
        "id": "eXozIkGwWSU7"
      }
    },
    {
      "cell_type": "code",
      "source": [
        "#Locating the index numbers of enteries with outlier values.\n",
        "outliers(\"MDVP:Jitter(Abs)\",0.00010)\n",
        "outliers(\"MDVP:RAP\",0.007)"
      ],
      "metadata": {
        "id": "4MIlhqjJhg__",
        "colab": {
          "base_uri": "https://localhost:8080/"
        },
        "outputId": "05598f4f-2045-4a44-9e99-042a9cff8c92"
      },
      "execution_count": 292,
      "outputs": [
        {
          "output_type": "stream",
          "name": "stdout",
          "text": [
            "Int64Index([4, 98, 99, 100, 101, 102, 151, 152, 157], dtype='int64')\n",
            "Int64Index([97, 98, 99, 100, 101, 102, 146, 147, 148, 149, 150, 151, 152, 157], dtype='int64')\n"
          ]
        }
      ]
    },
    {
      "cell_type": "code",
      "source": [
        "bar(\"MDVP:PPQ\",\"Jitter:DDP\")"
      ],
      "metadata": {
        "id": "GZvUFxoHQsJW",
        "colab": {
          "base_uri": "https://localhost:8080/",
          "height": 274
        },
        "outputId": "f5e7665f-d401-42da-e68f-efe76ff7fac2"
      },
      "execution_count": 293,
      "outputs": [
        {
          "output_type": "display_data",
          "data": {
            "text/plain": [
              "<Figure size 2016x432 with 4 Axes>"
            ],
            "image/png": "[encoded data removed]"
          },
          "metadata": {}
        }
      ]
    },
    {
      "cell_type": "markdown",
      "source": [
        "The two features, MDVP:PPQ and Jitter:DDP are both higher in individuals without PD and lower in those out it. There are outliers present in both features."
      ],
      "metadata": {
        "id": "x0znM75PDmEu"
      }
    },
    {
      "cell_type": "code",
      "source": [
        "#Locating the index numbers of enteries with outlier values.\n",
        "outliers(\"MDVP:PPQ\",0.007)\n",
        "outliers(\"Jitter:DDP\", 0.02)"
      ],
      "metadata": {
        "id": "EMTfAmI7iMMw",
        "colab": {
          "base_uri": "https://localhost:8080/"
        },
        "outputId": "c214e0f9-2e53-422e-85fd-6da4555dcbe6"
      },
      "execution_count": 294,
      "outputs": [
        {
          "output_type": "stream",
          "name": "stdout",
          "text": [
            "Int64Index([2, 4, 5, 99, 100, 101, 102, 146, 147, 148, 149, 150, 151, 152,\n",
            "            157],\n",
            "           dtype='int64')\n",
            "Int64Index([97, 98, 99, 100, 101, 102, 146, 147, 148, 149, 150, 151, 152, 157], dtype='int64')\n"
          ]
        }
      ]
    },
    {
      "cell_type": "code",
      "source": [
        "bar(\"MDVP:Shimmer\", \"MDVP:Shimmer(dB)\")"
      ],
      "metadata": {
        "id": "GcYgdeB7DmmD",
        "colab": {
          "base_uri": "https://localhost:8080/",
          "height": 274
        },
        "outputId": "53e3371d-34a0-4534-804b-62ffc436f7d1"
      },
      "execution_count": 295,
      "outputs": [
        {
          "output_type": "display_data",
          "data": {
            "text/plain": [
              "<Figure size 2016x432 with 4 Axes>"
            ],
            "image/png": "[encoded data removed]"
          },
          "metadata": {}
        }
      ]
    },
    {
      "cell_type": "markdown",
      "source": [
        "MDVP:Shimmer and MDVP:Shimmer(dB) are both higher in individuals with PD than those without it."
      ],
      "metadata": {
        "id": "CfdtyG1GTzo0"
      }
    },
    {
      "cell_type": "code",
      "source": [
        "#Locating the index numbers of enteries with outlier values.\n",
        "outliers(\"MDVP:Shimmer\",0.075)\n",
        "outliers(\"MDVP:Shimmer(dB)\", 0.7)"
      ],
      "metadata": {
        "id": "0dK_-yGAiy2n",
        "colab": {
          "base_uri": "https://localhost:8080/"
        },
        "outputId": "2fe20dbc-4187-4ebd-c484-2a4a4b5daac4"
      },
      "execution_count": 296,
      "outputs": [
        {
          "output_type": "stream",
          "name": "stdout",
          "text": [
            "Int64Index([91, 100, 102, 146, 151, 152], dtype='int64')\n",
            "Int64Index([91, 100, 102, 146, 148, 149, 150, 151, 152], dtype='int64')\n"
          ]
        }
      ]
    },
    {
      "cell_type": "code",
      "source": [
        "bar(\"Shimmer:APQ3\", \"Shimmer:APQ5\")"
      ],
      "metadata": {
        "id": "aH2KxoFgQ0ZW",
        "colab": {
          "base_uri": "https://localhost:8080/",
          "height": 273
        },
        "outputId": "6737d5f0-5fd8-41a3-f7f5-1882a2ba63ce"
      },
      "execution_count": 297,
      "outputs": [
        {
          "output_type": "display_data",
          "data": {
            "text/plain": [
              "<Figure size 2016x432 with 4 Axes>"
            ],
            "image/png": "[encoded data removed]"
          },
          "metadata": {}
        }
      ]
    },
    {
      "cell_type": "markdown",
      "source": [
        "Shimmer APQ3 and Shimmer APQ5 are both higher in individuals with PD than those without the disease."
      ],
      "metadata": {
        "id": "VMvEK-7vFd9n"
      }
    },
    {
      "cell_type": "code",
      "source": [
        "bar(\"MDVP:APQ\",\"Shimmer:DDA\")"
      ],
      "metadata": {
        "id": "2TXXcV9dFfb4",
        "colab": {
          "base_uri": "https://localhost:8080/",
          "height": 274
        },
        "outputId": "3c8e0838-2f20-42c8-81bb-ba304de02f81"
      },
      "execution_count": 298,
      "outputs": [
        {
          "output_type": "display_data",
          "data": {
            "text/plain": [
              "<Figure size 2016x432 with 4 Axes>"
            ],
            "image/png": "[encoded data removed]"
          },
          "metadata": {}
        }
      ]
    },
    {
      "cell_type": "code",
      "source": [
        "#Locating the index numbers of enteries with outlier values.\n",
        "outliers(\"MDVP:APQ\",0.06)\n",
        "outliers(\"Shimmer:DDA\", 0.12)"
      ],
      "metadata": {
        "id": "JE8gEN8yjKYf",
        "colab": {
          "base_uri": "https://localhost:8080/"
        },
        "outputId": "2e392dbd-74fe-43cd-fa34-00057512af15"
      },
      "execution_count": 299,
      "outputs": [
        {
          "output_type": "stream",
          "name": "stdout",
          "text": [
            "Int64Index([100, 102, 146, 147, 148, 149, 150, 151, 152], dtype='int64')\n",
            "Int64Index([91, 100, 102, 141, 151, 152], dtype='int64')\n"
          ]
        }
      ]
    },
    {
      "cell_type": "markdown",
      "source": [
        "The same thing here for MDVP: APQ and Shimmer:DDA, they are higher in individuals with the disease and lower in those without it."
      ],
      "metadata": {
        "id": "6Qr_YbxJUVvl"
      }
    },
    {
      "cell_type": "code",
      "source": [
        "bar(\"NHR\", \"HNR\")"
      ],
      "metadata": {
        "id": "0XCsyVkfQ9oU",
        "colab": {
          "base_uri": "https://localhost:8080/",
          "height": 274
        },
        "outputId": "19337df7-e90d-4bbe-e05a-dc14dcdc7e5f"
      },
      "execution_count": 300,
      "outputs": [
        {
          "output_type": "display_data",
          "data": {
            "text/plain": [
              "<Figure size 2016x432 with 4 Axes>"
            ],
            "image/png": "[encoded data removed]"
          },
          "metadata": {}
        }
      ]
    },
    {
      "cell_type": "markdown",
      "source": [
        "Here The NHR is lower in PD negative individuals and higher in PD positive individuals, while the HNR is higher in those without the disease than those without it."
      ],
      "metadata": {
        "id": "Zg3bx0ImF5jB"
      }
    },
    {
      "cell_type": "code",
      "source": [
        "#Locating the index numbers of enteries with outlier values.\n",
        "outliers(\"NHR\",0.05)\n",
        "outliers(\"HNR\", 30)"
      ],
      "metadata": {
        "id": "Ep79kcO9jY7r",
        "colab": {
          "base_uri": "https://localhost:8080/"
        },
        "outputId": "7c49874b-b0cf-4f62-8048-411db88d20fe"
      },
      "execution_count": 301,
      "outputs": [
        {
          "output_type": "stream",
          "name": "stdout",
          "text": [
            "Int64Index([ 84,  89,  90,  97,  98,  99, 100, 101, 102, 115, 146, 147, 148,\n",
            "            149, 150, 151, 152, 157, 192, 193],\n",
            "           dtype='int64')\n",
            "Int64Index([31, 32, 33, 34, 35], dtype='int64')\n"
          ]
        }
      ]
    },
    {
      "cell_type": "code",
      "source": [
        "bar(\"RPDE\", \"DFA\") "
      ],
      "metadata": {
        "id": "sNXooyMjF59G",
        "colab": {
          "base_uri": "https://localhost:8080/",
          "height": 276
        },
        "outputId": "694b95f9-3048-416d-fb8f-dea278a3466f"
      },
      "execution_count": 302,
      "outputs": [
        {
          "output_type": "display_data",
          "data": {
            "text/plain": [
              "<Figure size 2016x432 with 4 Axes>"
            ],
            "image/png": "[encoded data removed]"
          },
          "metadata": {}
        }
      ]
    },
    {
      "cell_type": "markdown",
      "source": [
        "RPDE is higher in PD positive individuals and lower in PD negative individuals. As for DFA, There is only a slight difference between those with and without the disease. It is high in both positive and negative individuals, although it is slightly higher in PD positive individuals."
      ],
      "metadata": {
        "id": "XERezy7OVfK2"
      }
    },
    {
      "cell_type": "code",
      "source": [
        "bar(\"spread1\",\"spread2\")"
      ],
      "metadata": {
        "id": "VAX_ubxgRCrL",
        "colab": {
          "base_uri": "https://localhost:8080/",
          "height": 279
        },
        "outputId": "e4299f3d-62f8-4e91-9316-b75d0fa7ef79"
      },
      "execution_count": 303,
      "outputs": [
        {
          "output_type": "display_data",
          "data": {
            "text/plain": [
              "<Figure size 2016x432 with 4 Axes>"
            ],
            "image/png": "[encoded data removed]"
          },
          "metadata": {}
        }
      ]
    },
    {
      "cell_type": "markdown",
      "source": [
        "Notice the values in spread1 are higher in PD positive and lower negative individuals.The both start from below zero(0). Spread2 can also be seen to be higher in PD positive and lower in PD negative."
      ],
      "metadata": {
        "id": "c3idPqNRGSc9"
      }
    },
    {
      "cell_type": "code",
      "source": [
        "bar(\"D2\", \"PPE\")"
      ],
      "metadata": {
        "id": "T0JvkbHlGS8f",
        "colab": {
          "base_uri": "https://localhost:8080/",
          "height": 276
        },
        "outputId": "5006a6b3-7cf2-45f7-e4a5-9138b7e6e478"
      },
      "execution_count": 304,
      "outputs": [
        {
          "output_type": "display_data",
          "data": {
            "text/plain": [
              "<Figure size 2016x432 with 4 Axes>"
            ],
            "image/png": "[encoded data removed]"
          },
          "metadata": {}
        }
      ]
    },
    {
      "cell_type": "markdown",
      "source": [
        "Both D2 and PPE are lower in PD negative and higher in PD positive."
      ],
      "metadata": {
        "id": "LqAP_fF1oAxY"
      }
    },
    {
      "cell_type": "code",
      "source": [
        "#Locating the index numbers of enteries with outlier values.\n",
        "outliers(\"D2\",3.4)\n",
        "outliers(\"PPE\",0.41)"
      ],
      "metadata": {
        "id": "QApEIPTrjqb4",
        "colab": {
          "base_uri": "https://localhost:8080/"
        },
        "outputId": "3dc9a61f-b1d1-4234-f8ad-407f8a5222fc"
      },
      "execution_count": 305,
      "outputs": [
        {
          "output_type": "stream",
          "name": "stdout",
          "text": [
            "Int64Index([89, 146], dtype='int64')\n",
            "Int64Index([4, 17, 102, 146, 148, 151, 152], dtype='int64')\n"
          ]
        }
      ]
    },
    {
      "cell_type": "markdown",
      "source": [
        "#**Dropping extreme outliers**"
      ],
      "metadata": {
        "id": "QtmCNut7r8QQ"
      }
    },
    {
      "cell_type": "code",
      "source": [
        "#A list of the index number of all outliers.\n",
        "df = df.drop(index = [2, 4, 5,17, 18,19,20, 31, 32, 33, 34, 35, 68, 73, 84, 87,88, 89, 90, 91, 97, 98, 99, 100, 101, 102, 115, \n",
        " 116, 117, 118, 120, 141, 146, 147, 148, 149, 150, 151, 152, 153, 154, 157, 186, 187, 189, 192, 193, 194])"
      ],
      "metadata": {
        "id": "AFrtnxh1nNzB"
      },
      "execution_count": 306,
      "outputs": []
    },
    {
      "cell_type": "markdown",
      "source": [
        "**Confirming the the drop of outliers using only columns (\"NHR\" and \"HNR\").**"
      ],
      "metadata": {
        "id": "Q2LN7kmBulVH"
      }
    },
    {
      "cell_type": "code",
      "source": [
        "bar(\"NHR\", \"HNR\")"
      ],
      "metadata": {
        "id": "T7w3xLF6tESQ",
        "colab": {
          "base_uri": "https://localhost:8080/",
          "height": 274
        },
        "outputId": "7f772281-068f-45f0-f638-b3c08823a453"
      },
      "execution_count": 307,
      "outputs": [
        {
          "output_type": "display_data",
          "data": {
            "text/plain": [
              "<Figure size 2016x432 with 4 Axes>"
            ],
            "image/png": "[encoded data removed]"
          },
          "metadata": {}
        }
      ]
    },
    {
      "cell_type": "markdown",
      "source": [
        "Dropping of extreme outliers was successfull."
      ],
      "metadata": {
        "id": "ssHQelFVuyr_"
      }
    },
    {
      "cell_type": "markdown",
      "source": [
        "###**Data analysis conclusions:**\n",
        "**There are some features whose difference in values in both PD negative and PD positive instances is very small. In order for our model to perform well on the dataset, those features will be droped. The features(columns) are: \"HNR\", \"RPDE\", \"DFA\", and \"D2\"**"
      ],
      "metadata": {
        "id": "48dtOhURgc1H"
      }
    },
    {
      "cell_type": "code",
      "source": [
        "#dropping of insignificant features\n",
        "df = df.drop(columns = [\"HNR\", \"RPDE\", \"DFA\", \"D2\"])"
      ],
      "metadata": {
        "id": "vO9UKsWlWOgA"
      },
      "execution_count": 309,
      "outputs": []
    },
    {
      "cell_type": "code",
      "source": [
        "#Confirrming changes\n",
        "df.columns"
      ],
      "metadata": {
        "colab": {
          "base_uri": "https://localhost:8080/"
        },
        "id": "hVVI4bFyr5yC",
        "outputId": "1cc86088-d717-4c43-a129-c1327636d827"
      },
      "execution_count": 453,
      "outputs": [
        {
          "output_type": "execute_result",
          "data": {
            "text/plain": [
              "Index(['MDVP:Fo(Hz)', 'MDVP:Fhi(Hz)', 'MDVP:Flo(Hz)', 'MDVP:Jitter(%)',\n",
              "       'MDVP:Jitter(Abs)', 'MDVP:RAP', 'MDVP:PPQ', 'Jitter:DDP',\n",
              "       'MDVP:Shimmer', 'MDVP:Shimmer(dB)', 'Shimmer:APQ3', 'Shimmer:APQ5',\n",
              "       'MDVP:APQ', 'Shimmer:DDA', 'NHR', 'status', 'spread1', 'spread2',\n",
              "       'PPE'],\n",
              "      dtype='object')"
            ]
          },
          "metadata": {},
          "execution_count": 453
        }
      ]
    },
    {
      "cell_type": "markdown",
      "source": [
        "##**Correlation between features**"
      ],
      "metadata": {
        "id": "_7yIOdb3aJWh"
      }
    },
    {
      "cell_type": "code",
      "source": [
        "plt.figure(figsize = (12, 10))\n",
        "\n",
        "corr = df.corr()\n",
        "sns.heatmap(corr, cmap='vlag');\n",
        "\n",
        "plt.title('Correlation Heatmap', fontsize = 16, weight='bold')\n",
        "plt.xticks(fontsize = 10, weight='bold', rotation=90)\n",
        "plt.yticks(fontsize = 10, weight='bold');\n",
        "\n",
        "plt.tight_layout()\n",
        "plt.show;"
      ],
      "metadata": {
        "id": "g_mF2ArEJkC-",
        "colab": {
          "base_uri": "https://localhost:8080/",
          "height": 725
        },
        "outputId": "85fed355-fcdf-4bbe-edab-80f9de63938a"
      },
      "execution_count": 310,
      "outputs": [
        {
          "output_type": "display_data",
          "data": {
            "text/plain": [
              "<Figure size 864x720 with 2 Axes>"
            ],
            "image/png": "[encoded data removed]"
          },
          "metadata": {}
        }
      ]
    },
    {
      "cell_type": "markdown",
      "source": [
        "There appears to be a strong positive correlation amongst 'MDVP:Shimmer', 'MDVP:Shimmer(dB)', 'Shimmer:APQ3', 'Shimmer:APQ5','MDVP:APQ'and 'Shimmer:DDA'.\n",
        "HNR also has a negative correlation most of the features."
      ],
      "metadata": {
        "id": "UIS6DmG6ZFHp"
      }
    },
    {
      "cell_type": "markdown",
      "source": [
        "###**Checking for inbalance in target vector**"
      ],
      "metadata": {
        "id": "-PlNsmnlYvHU"
      }
    },
    {
      "cell_type": "code",
      "source": [
        "df[\"status\"].unique()"
      ],
      "metadata": {
        "id": "LiST0RugZOBc",
        "colab": {
          "base_uri": "https://localhost:8080/"
        },
        "outputId": "3f432e0b-517d-43f5-f0dd-035aeda01ea2"
      },
      "execution_count": 311,
      "outputs": [
        {
          "output_type": "execute_result",
          "data": {
            "text/plain": [
              "array([1, 0])"
            ]
          },
          "metadata": {},
          "execution_count": 311
        }
      ]
    },
    {
      "cell_type": "code",
      "source": [
        "print(f'Status(0)_counts:{df[df[\"status\"]==0].shape[0]}')\n",
        "print(f'Status(1)_counts:{df[df[\"status\"]==1].shape[0]}')\n"
      ],
      "metadata": {
        "id": "MEZM61rPZsbM",
        "colab": {
          "base_uri": "https://localhost:8080/"
        },
        "outputId": "3e99f966-7c8b-42a6-a388-4a54dcbb2314"
      },
      "execution_count": 312,
      "outputs": [
        {
          "output_type": "stream",
          "name": "stdout",
          "text": [
            "Status(0)_counts:37\n",
            "Status(1)_counts:110\n"
          ]
        }
      ]
    },
    {
      "cell_type": "markdown",
      "source": [
        "We can see here that the target Vector is not balanced. This imbalance will be handled during the preprocessing stage."
      ],
      "metadata": {
        "id": "0L3ssTdFb1mH"
      }
    },
    {
      "cell_type": "markdown",
      "source": [
        "#**Visualization of Data Clusters through dimentionality reduction(Principal Component Analysis, PCA)**"
      ],
      "metadata": {
        "id": "RcXyZTt6F6L0"
      }
    },
    {
      "cell_type": "markdown",
      "source": [
        "This data sets has more than one dimention, which makes it impossible to visualize, therefore the principal component analysis(pca), will be used to reduce the dimentionality of the dataset into two dimentions (clusters), thereby making it possible for visualization."
      ],
      "metadata": {
        "id": "uJga8LtmHyi5"
      }
    },
    {
      "cell_type": "markdown",
      "source": [
        "**Assigning Target Vector and Independent Variable**\n",
        "\n"
      ],
      "metadata": {
        "id": "yWKeo38Zv0Bs"
      }
    },
    {
      "cell_type": "code",
      "source": [
        "#Assigning X and y features\n",
        "X = df.drop(columns =\"status\")\n",
        "y = df[\"status\"]\n",
        "\n",
        "le =LabelEncoder()\n",
        "z= le.fit_transform(df[\"status\"])\n"
      ],
      "metadata": {
        "id": "3nJNXdfVv2yG"
      },
      "execution_count": 313,
      "outputs": []
    },
    {
      "cell_type": "markdown",
      "source": [
        "**Scaling Data in preparation for pca**"
      ],
      "metadata": {
        "id": "f6W0Y3woGMvS"
      }
    },
    {
      "cell_type": "code",
      "source": [
        "#Instantiating Scaler\n",
        "scaler =StandardScaler()\n",
        "scaled_df = scaler.fit_transform(X)"
      ],
      "metadata": {
        "id": "vh6r5bkE_Inh"
      },
      "execution_count": 314,
      "outputs": []
    },
    {
      "cell_type": "markdown",
      "source": [
        "**Instantiating pca**"
      ],
      "metadata": {
        "id": "VN4WA4NeGT53"
      }
    },
    {
      "cell_type": "code",
      "source": [
        "#Instantiating pca\n",
        "pca = PCA(n_components = 2)\n",
        "pcss =pca.fit_transform(scaled_df)\n"
      ],
      "metadata": {
        "id": "cW0ozgMM-BxT"
      },
      "execution_count": 315,
      "outputs": []
    },
    {
      "cell_type": "markdown",
      "source": [
        "**Clusters representing Individuals with and without Parkinson's disease.**"
      ],
      "metadata": {
        "id": "z1hSpYVsGbEK"
      }
    },
    {
      "cell_type": "code",
      "source": [
        "plt.figure(figsize = (8, 4))\n",
        "#plt.scatter(pcss, c=z)\n",
        "plt.scatter(pcss[:,0], pcss[:,1], c = z)\n",
        "\n",
        "ax =plt.axes()\n",
        "ax.set_facecolor (\"grey\")\n",
        "plt.title('Visualization of all of our data using the first two Principal Components')\n",
        "plt.xlabel('PC1')\n",
        "plt.ylabel('PC2');"
      ],
      "metadata": {
        "id": "cuGKGyBlBlkF",
        "colab": {
          "base_uri": "https://localhost:8080/",
          "height": 356
        },
        "outputId": "952e1266-4f1c-4067-f46e-45ae66ce155c"
      },
      "execution_count": 316,
      "outputs": [
        {
          "output_type": "stream",
          "name": "stderr",
          "text": [
            "/usr/local/lib/python3.7/dist-packages/ipykernel_launcher.py:5: MatplotlibDeprecationWarning: Adding an axes using the same arguments as a previous axes currently reuses the earlier instance.  In a future version, a new instance will always be created and returned.  Meanwhile, this warning can be suppressed, and the future behavior ensured, by passing a unique label to each axes instance.\n",
            "  \"\"\"\n"
          ]
        },
        {
          "output_type": "display_data",
          "data": {
            "text/plain": [
              "<Figure size 576x288 with 1 Axes>"
            ],
            "image/png": "[encoded data removed]"
          },
          "metadata": {}
        }
      ]
    },
    {
      "cell_type": "markdown",
      "source": [
        "#**Preprocessing of Data**"
      ],
      "metadata": {
        "id": "m5OW9iODFk2s"
      }
    },
    {
      "cell_type": "markdown",
      "source": [
        "Now lets begin processing our data for modelling."
      ],
      "metadata": {
        "id": "CIwS-Ys4Ir0N"
      }
    },
    {
      "cell_type": "code",
      "source": [
        "#Train, test, splitting data.\n",
        "X_train, X_test, y_train, y_test= train_test_split(X,y, random_state = 42)"
      ],
      "metadata": {
        "id": "DO3Lxm4aFrvs"
      },
      "execution_count": 317,
      "outputs": []
    },
    {
      "cell_type": "markdown",
      "source": [
        "###**Instantiating Column Selector**"
      ],
      "metadata": {
        "id": "yzYuA66swSOI"
      }
    },
    {
      "cell_type": "code",
      "source": [
        "#The dataset contains only numeric columns in this data frame\n",
        "num_cols = make_column_selector(dtype_include=\"number\")"
      ],
      "metadata": {
        "id": "BdKVBnSIwDb2"
      },
      "execution_count": 318,
      "outputs": []
    },
    {
      "cell_type": "markdown",
      "source": [
        "###**Instantiating Standard scaler**"
      ],
      "metadata": {
        "id": "3P9nV0mvw3s2"
      }
    },
    {
      "cell_type": "code",
      "source": [
        "#Instantiating scaler\n",
        "scaler =StandardScaler()"
      ],
      "metadata": {
        "id": "jJBmDjsywMEH"
      },
      "execution_count": 319,
      "outputs": []
    },
    {
      "cell_type": "code",
      "source": [
        "#passing scaler and numeric columns into a tuple\n",
        "num_tuple =(scaler, num_cols)"
      ],
      "metadata": {
        "id": "0Acq3w4BwnaO"
      },
      "execution_count": 320,
      "outputs": []
    },
    {
      "cell_type": "markdown",
      "source": [
        "###**Instantiating Column transformer**"
      ],
      "metadata": {
        "id": "2LBKL3FmxEeI"
      }
    },
    {
      "cell_type": "code",
      "source": [
        "#Transforming tuple for machine learning\n",
        "column_transformer = make_column_transformer(num_tuple)"
      ],
      "metadata": {
        "id": "NVBIs_GJxDum"
      },
      "execution_count": 321,
      "outputs": []
    },
    {
      "cell_type": "markdown",
      "source": [
        "#**KNeighbors Classifier Model**"
      ],
      "metadata": {
        "id": "Z3YsdU4cxPpe"
      }
    },
    {
      "cell_type": "code",
      "source": [
        "#Instantiating model\n",
        "knn =KNeighborsClassifier()"
      ],
      "metadata": {
        "id": "zUY8444WxVa-"
      },
      "execution_count": 322,
      "outputs": []
    },
    {
      "cell_type": "markdown",
      "source": [
        "**Handling imbalance target vector(y), using SMOTE**"
      ],
      "metadata": {
        "id": "3L-xRba2vFlr"
      }
    },
    {
      "cell_type": "code",
      "source": [
        "#Instantiating smote\n",
        "smote = SMOTE(random_state = 42)"
      ],
      "metadata": {
        "id": "1dJhSJIEvEZB"
      },
      "execution_count": 323,
      "outputs": []
    },
    {
      "cell_type": "code",
      "source": [
        "#Building pipeline containing  smote and knn model.\n",
        "KS_pipe = Pipeline([(\"smote\", smote), (\"knn\", knn)])"
      ],
      "metadata": {
        "id": "vwJjUs4htH7a"
      },
      "execution_count": 324,
      "outputs": []
    },
    {
      "cell_type": "code",
      "source": [
        "#Fitting pipe on data\n",
        "knn_pipe = make_pipeline(column_transformer, KS_pipe)\n",
        "knn_pipe.fit(X_train, y_train)"
      ],
      "metadata": {
        "id": "f6N3Ix5dxj6S",
        "colab": {
          "base_uri": "https://localhost:8080/",
          "height": 252
        },
        "outputId": "395d160e-cab2-4391-ff50-a9414b8093f3"
      },
      "execution_count": 325,
      "outputs": [
        {
          "output_type": "execute_result",
          "data": {
            "text/plain": [
              "Pipeline(steps=[('columntransformer',\n",
              "                 ColumnTransformer(transformers=[('standardscaler',\n",
              "                                                  StandardScaler(),\n",
              "                                                  <sklearn.compose._column_transformer.make_column_selector object at 0x7f89e5660690>)])),\n",
              "                ('pipeline',\n",
              "                 Pipeline(steps=[('smote', SMOTE(random_state=42)),\n",
              "                                 ('knn', KNeighborsClassifier())]))])"
            ],
            "text/html": [
              "<style>#sk-03360899-6245-45f5-9d8d-cc1ac612ef54 {color: black;background-color: white;}#sk-03360899-6245-45f5-9d8d-cc1ac612ef54 pre{padding: 0;}#sk-03360899-6245-45f5-9d8d-cc1ac612ef54 div.sk-toggleable {background-color: white;}#sk-03360899-6245-45f5-9d8d-cc1ac612ef54 label.sk-toggleable__label {cursor: pointer;display: block;width: 100%;margin-bottom: 0;padding: 0.3em;box-sizing: border-box;text-align: center;}#sk-03360899-6245-45f5-9d8d-cc1ac612ef54 label.sk-toggleable__label-arrow:before {content: \"▸\";float: left;margin-right: 0.25em;color: #696969;}#sk-03360899-6245-45f5-9d8d-cc1ac612ef54 label.sk-toggleable__label-arrow:hover:before {color: black;}#sk-03360899-6245-45f5-9d8d-cc1ac612ef54 div.sk-estimator:hover label.sk-toggleable__label-arrow:before {color: black;}#sk-03360899-6245-45f5-9d8d-cc1ac612ef54 div.sk-toggleable__content {max-height: 0;max-width: 0;overflow: hidden;text-align: left;background-color: #f0f8ff;}#sk-03360899-6245-45f5-9d8d-cc1ac612ef54 div.sk-toggleable__content pre {margin: 0.2em;color: black;border-radius: 0.25em;background-color: #f0f8ff;}#sk-03360899-6245-45f5-9d8d-cc1ac612ef54 input.sk-toggleable__control:checked~div.sk-toggleable__content {max-height: 200px;max-width: 100%;overflow: auto;}#sk-03360899-6245-45f5-9d8d-cc1ac612ef54 input.sk-toggleable__control:checked~label.sk-toggleable__label-arrow:before {content: \"▾\";}#sk-03360899-6245-45f5-9d8d-cc1ac612ef54 div.sk-estimator input.sk-toggleable__control:checked~label.sk-toggleable__label {background-color: #d4ebff;}#sk-03360899-6245-45f5-9d8d-cc1ac612ef54 div.sk-label input.sk-toggleable__control:checked~label.sk-toggleable__label {background-color: #d4ebff;}#sk-03360899-6245-45f5-9d8d-cc1ac612ef54 input.sk-hidden--visually {border: 0;clip: rect(1px 1px 1px 1px);clip: rect(1px, 1px, 1px, 1px);height: 1px;margin: -1px;overflow: hidden;padding: 0;position: absolute;width: 1px;}#sk-03360899-6245-45f5-9d8d-cc1ac612ef54 div.sk-estimator {font-family: monospace;background-color: #f0f8ff;border: 1px dotted black;border-radius: 0.25em;box-sizing: border-box;margin-bottom: 0.5em;}#sk-03360899-6245-45f5-9d8d-cc1ac612ef54 div.sk-estimator:hover {background-color: #d4ebff;}#sk-03360899-6245-45f5-9d8d-cc1ac612ef54 div.sk-parallel-item::after {content: \"\";width: 100%;border-bottom: 1px solid gray;flex-grow: 1;}#sk-03360899-6245-45f5-9d8d-cc1ac612ef54 div.sk-label:hover label.sk-toggleable__label {background-color: #d4ebff;}#sk-03360899-6245-45f5-9d8d-cc1ac612ef54 div.sk-serial::before {content: \"\";position: absolute;border-left: 1px solid gray;box-sizing: border-box;top: 2em;bottom: 0;left: 50%;}#sk-03360899-6245-45f5-9d8d-cc1ac612ef54 div.sk-serial {display: flex;flex-direction: column;align-items: center;background-color: white;padding-right: 0.2em;padding-left: 0.2em;}#sk-03360899-6245-45f5-9d8d-cc1ac612ef54 div.sk-item {z-index: 1;}#sk-03360899-6245-45f5-9d8d-cc1ac612ef54 div.sk-parallel {display: flex;align-items: stretch;justify-content: center;background-color: white;}#sk-03360899-6245-45f5-9d8d-cc1ac612ef54 div.sk-parallel::before {content: \"\";position: absolute;border-left: 1px solid gray;box-sizing: border-box;top: 2em;bottom: 0;left: 50%;}#sk-03360899-6245-45f5-9d8d-cc1ac612ef54 div.sk-parallel-item {display: flex;flex-direction: column;position: relative;background-color: white;}#sk-03360899-6245-45f5-9d8d-cc1ac612ef54 div.sk-parallel-item:first-child::after {align-self: flex-end;width: 50%;}#sk-03360899-6245-45f5-9d8d-cc1ac612ef54 div.sk-parallel-item:last-child::after {align-self: flex-start;width: 50%;}#sk-03360899-6245-45f5-9d8d-cc1ac612ef54 div.sk-parallel-item:only-child::after {width: 0;}#sk-03360899-6245-45f5-9d8d-cc1ac612ef54 div.sk-dashed-wrapped {border: 1px dashed gray;margin: 0 0.4em 0.5em 0.4em;box-sizing: border-box;padding-bottom: 0.4em;background-color: white;position: relative;}#sk-03360899-6245-45f5-9d8d-cc1ac612ef54 div.sk-label label {font-family: monospace;font-weight: bold;background-color: white;display: inline-block;line-height: 1.2em;}#sk-03360899-6245-45f5-9d8d-cc1ac612ef54 div.sk-label-container {position: relative;z-index: 2;text-align: center;}#sk-03360899-6245-45f5-9d8d-cc1ac612ef54 div.sk-container {/* jupyter's `normalize.less` sets `[hidden] { display: none; }` but bootstrap.min.css set `[hidden] { display: none !important; }` so we also need the `!important` here to be able to override the default hidden behavior on the sphinx rendered scikit-learn.org. See: https://github.com/scikit-learn/scikit-learn/issues/21755 */display: inline-block !important;position: relative;}#sk-03360899-6245-45f5-9d8d-cc1ac612ef54 div.sk-text-repr-fallback {display: none;}</style><div id=\"sk-03360899-6245-45f5-9d8d-cc1ac612ef54\" class=\"sk-top-container\"><div class=\"sk-text-repr-fallback\"><pre>Pipeline(steps=[(&#x27;columntransformer&#x27;,\n",
              "                 ColumnTransformer(transformers=[(&#x27;standardscaler&#x27;,\n",
              "                                                  StandardScaler(),\n",
              "                                                  &lt;sklearn.compose._column_transformer.make_column_selector object at 0x7f89e5660690&gt;)])),\n",
              "                (&#x27;pipeline&#x27;,\n",
              "                 Pipeline(steps=[(&#x27;smote&#x27;, SMOTE(random_state=42)),\n",
              "                                 (&#x27;knn&#x27;, KNeighborsClassifier())]))])</pre><b>Please rerun this cell to show the HTML repr or trust the notebook.</b></div><div class=\"sk-container\" hidden><div class=\"sk-item sk-dashed-wrapped\"><div class=\"sk-label-container\"><div class=\"sk-label sk-toggleable\"><input class=\"sk-toggleable__control sk-hidden--visually\" id=\"4a914e78-d5ab-4fc8-8adb-69868d6a2c28\" type=\"checkbox\" ><label for=\"4a914e78-d5ab-4fc8-8adb-69868d6a2c28\" class=\"sk-toggleable__label sk-toggleable__label-arrow\">Pipeline</label><div class=\"sk-toggleable__content\"><pre>Pipeline(steps=[(&#x27;columntransformer&#x27;,\n",
              "                 ColumnTransformer(transformers=[(&#x27;standardscaler&#x27;,\n",
              "                                                  StandardScaler(),\n",
              "                                                  &lt;sklearn.compose._column_transformer.make_column_selector object at 0x7f89e5660690&gt;)])),\n",
              "                (&#x27;pipeline&#x27;,\n",
              "                 Pipeline(steps=[(&#x27;smote&#x27;, SMOTE(random_state=42)),\n",
              "                                 (&#x27;knn&#x27;, KNeighborsClassifier())]))])</pre></div></div></div><div class=\"sk-serial\"><div class=\"sk-item sk-dashed-wrapped\"><div class=\"sk-label-container\"><div class=\"sk-label sk-toggleable\"><input class=\"sk-toggleable__control sk-hidden--visually\" id=\"b65d3363-e4e0-47c3-9e4c-c49f0913d8bf\" type=\"checkbox\" ><label for=\"b65d3363-e4e0-47c3-9e4c-c49f0913d8bf\" class=\"sk-toggleable__label sk-toggleable__label-arrow\">columntransformer: ColumnTransformer</label><div class=\"sk-toggleable__content\"><pre>ColumnTransformer(transformers=[(&#x27;standardscaler&#x27;, StandardScaler(),\n",
              "                                 &lt;sklearn.compose._column_transformer.make_column_selector object at 0x7f89e5660690&gt;)])</pre></div></div></div><div class=\"sk-parallel\"><div class=\"sk-parallel-item\"><div class=\"sk-item\"><div class=\"sk-label-container\"><div class=\"sk-label sk-toggleable\"><input class=\"sk-toggleable__control sk-hidden--visually\" id=\"b55e6183-c59a-45fe-b092-8206f05c8026\" type=\"checkbox\" ><label for=\"b55e6183-c59a-45fe-b092-8206f05c8026\" class=\"sk-toggleable__label sk-toggleable__label-arrow\">standardscaler</label><div class=\"sk-toggleable__content\"><pre>&lt;sklearn.compose._column_transformer.make_column_selector object at 0x7f89e5660690&gt;</pre></div></div></div><div class=\"sk-serial\"><div class=\"sk-item\"><div class=\"sk-estimator sk-toggleable\"><input class=\"sk-toggleable__control sk-hidden--visually\" id=\"cdcfaa77-43e6-43ec-a19a-da8ba2908ef3\" type=\"checkbox\" ><label for=\"cdcfaa77-43e6-43ec-a19a-da8ba2908ef3\" class=\"sk-toggleable__label sk-toggleable__label-arrow\">StandardScaler</label><div class=\"sk-toggleable__content\"><pre>StandardScaler()</pre></div></div></div></div></div></div></div></div><div class=\"sk-item\"><div class=\"sk-label-container\"><div class=\"sk-label sk-toggleable\"><input class=\"sk-toggleable__control sk-hidden--visually\" id=\"10d9c010-6aef-457d-8f45-6a169b2bf172\" type=\"checkbox\" ><label for=\"10d9c010-6aef-457d-8f45-6a169b2bf172\" class=\"sk-toggleable__label sk-toggleable__label-arrow\">pipeline: Pipeline</label><div class=\"sk-toggleable__content\"><pre>Pipeline(steps=[(&#x27;smote&#x27;, SMOTE(random_state=42)),\n",
              "                (&#x27;knn&#x27;, KNeighborsClassifier())])</pre></div></div></div><div class=\"sk-serial\"><div class=\"sk-item\"><div class=\"sk-estimator sk-toggleable\"><input class=\"sk-toggleable__control sk-hidden--visually\" id=\"517c9267-74b9-498b-a7f9-c90f62d429da\" type=\"checkbox\" ><label for=\"517c9267-74b9-498b-a7f9-c90f62d429da\" class=\"sk-toggleable__label sk-toggleable__label-arrow\">SMOTE</label><div class=\"sk-toggleable__content\"><pre>SMOTE(random_state=42)</pre></div></div></div><div class=\"sk-item\"><div class=\"sk-estimator sk-toggleable\"><input class=\"sk-toggleable__control sk-hidden--visually\" id=\"660d7dbd-8b72-431e-9020-e692f1719b0e\" type=\"checkbox\" ><label for=\"660d7dbd-8b72-431e-9020-e692f1719b0e\" class=\"sk-toggleable__label sk-toggleable__label-arrow\">KNeighborsClassifier</label><div class=\"sk-toggleable__content\"><pre>KNeighborsClassifier()</pre></div></div></div></div></div></div></div></div></div>"
            ]
          },
          "metadata": {},
          "execution_count": 325
        }
      ]
    },
    {
      "cell_type": "markdown",
      "source": [
        "**Tuning for the best parameters**"
      ],
      "metadata": {
        "id": "vKgjD1FUyA_V"
      }
    },
    {
      "cell_type": "code",
      "source": [
        "knn_pipe.get_params()"
      ],
      "metadata": {
        "id": "ooCsCbqlyExU",
        "colab": {
          "base_uri": "https://localhost:8080/"
        },
        "outputId": "528a9c8e-7e5d-46b8-f2f0-525cde9d63ea"
      },
      "execution_count": 326,
      "outputs": [
        {
          "output_type": "execute_result",
          "data": {
            "text/plain": [
              "{'columntransformer': ColumnTransformer(transformers=[('standardscaler', StandardScaler(),\n",
              "                                  <sklearn.compose._column_transformer.make_column_selector object at 0x7f89e5660690>)]),\n",
              " 'columntransformer__n_jobs': None,\n",
              " 'columntransformer__remainder': 'drop',\n",
              " 'columntransformer__sparse_threshold': 0.3,\n",
              " 'columntransformer__standardscaler': StandardScaler(),\n",
              " 'columntransformer__standardscaler__copy': True,\n",
              " 'columntransformer__standardscaler__with_mean': True,\n",
              " 'columntransformer__standardscaler__with_std': True,\n",
              " 'columntransformer__transformer_weights': None,\n",
              " 'columntransformer__transformers': [('standardscaler',\n",
              "   StandardScaler(),\n",
              "   <sklearn.compose._column_transformer.make_column_selector at 0x7f89e5660690>)],\n",
              " 'columntransformer__verbose': False,\n",
              " 'columntransformer__verbose_feature_names_out': True,\n",
              " 'memory': None,\n",
              " 'pipeline': Pipeline(steps=[('smote', SMOTE(random_state=42)),\n",
              "                 ('knn', KNeighborsClassifier())]),\n",
              " 'pipeline__knn': KNeighborsClassifier(),\n",
              " 'pipeline__knn__algorithm': 'auto',\n",
              " 'pipeline__knn__leaf_size': 30,\n",
              " 'pipeline__knn__metric': 'minkowski',\n",
              " 'pipeline__knn__metric_params': None,\n",
              " 'pipeline__knn__n_jobs': None,\n",
              " 'pipeline__knn__n_neighbors': 5,\n",
              " 'pipeline__knn__p': 2,\n",
              " 'pipeline__knn__weights': 'uniform',\n",
              " 'pipeline__memory': None,\n",
              " 'pipeline__smote': SMOTE(random_state=42),\n",
              " 'pipeline__smote__k_neighbors': 5,\n",
              " 'pipeline__smote__n_jobs': None,\n",
              " 'pipeline__smote__random_state': 42,\n",
              " 'pipeline__smote__sampling_strategy': 'auto',\n",
              " 'pipeline__steps': [('smote', SMOTE(random_state=42)),\n",
              "  ('knn', KNeighborsClassifier())],\n",
              " 'pipeline__verbose': False,\n",
              " 'steps': [('columntransformer',\n",
              "   ColumnTransformer(transformers=[('standardscaler', StandardScaler(),\n",
              "                                    <sklearn.compose._column_transformer.make_column_selector object at 0x7f89e5660690>)])),\n",
              "  ('pipeline', Pipeline(steps=[('smote', SMOTE(random_state=42)),\n",
              "                   ('knn', KNeighborsClassifier())]))],\n",
              " 'verbose': False}"
            ]
          },
          "metadata": {},
          "execution_count": 326
        }
      ]
    },
    {
      "cell_type": "code",
      "source": [
        "#Getting parameters for model tuning\n",
        "params = {'pipeline__knn__n_neighbors': [5,7,9,11],\n",
        "          'pipeline__knn__weights': [\"uniform\", \"distance\"],\n",
        "          'pipeline__knn__p':[2,3,4]}"
      ],
      "metadata": {
        "id": "_6erGHbfyRpU"
      },
      "execution_count": 327,
      "outputs": []
    },
    {
      "cell_type": "markdown",
      "source": [
        "##**Instantiating the GridSearch with Knn pipeline and parameters**\n",
        "\n"
      ],
      "metadata": {
        "id": "FcwS8tBeyiTX"
      }
    },
    {
      "cell_type": "code",
      "source": [
        "knn_gs =GridSearchCV(knn_pipe, params)\n",
        "knn_gs.fit(X_train, y_train)"
      ],
      "metadata": {
        "id": "ekUfcK4bynW6",
        "colab": {
          "base_uri": "https://localhost:8080/",
          "height": 254
        },
        "outputId": "0f9ab2f3-26a7-4f76-8ec5-aea56ea0d9ab"
      },
      "execution_count": 328,
      "outputs": [
        {
          "output_type": "execute_result",
          "data": {
            "text/plain": [
              "GridSearchCV(estimator=Pipeline(steps=[('columntransformer',\n",
              "                                        ColumnTransformer(transformers=[('standardscaler',\n",
              "                                                                         StandardScaler(),\n",
              "                                                                         <sklearn.compose._column_transformer.make_column_selector object at 0x7f89e5660690>)])),\n",
              "                                       ('pipeline',\n",
              "                                        Pipeline(steps=[('smote',\n",
              "                                                         SMOTE(random_state=42)),\n",
              "                                                        ('knn',\n",
              "                                                         KNeighborsClassifier())]))]),\n",
              "             param_grid={'pipeline__knn__n_neighbors': [5, 7, 9, 11],\n",
              "                         'pipeline__knn__p': [2, 3, 4],\n",
              "                         'pipeline__knn__weights': ['uniform', 'distance']})"
            ],
            "text/html": [
              "<style>#sk-de5319b8-ae88-4f8b-9479-c24cbf081f2a {color: black;background-color: white;}#sk-de5319b8-ae88-4f8b-9479-c24cbf081f2a pre{padding: 0;}#sk-de5319b8-ae88-4f8b-9479-c24cbf081f2a div.sk-toggleable {background-color: white;}#sk-de5319b8-ae88-4f8b-9479-c24cbf081f2a label.sk-toggleable__label {cursor: pointer;display: block;width: 100%;margin-bottom: 0;padding: 0.3em;box-sizing: border-box;text-align: center;}#sk-de5319b8-ae88-4f8b-9479-c24cbf081f2a label.sk-toggleable__label-arrow:before {content: \"▸\";float: left;margin-right: 0.25em;color: #696969;}#sk-de5319b8-ae88-4f8b-9479-c24cbf081f2a label.sk-toggleable__label-arrow:hover:before {color: black;}#sk-de5319b8-ae88-4f8b-9479-c24cbf081f2a div.sk-estimator:hover label.sk-toggleable__label-arrow:before {color: black;}#sk-de5319b8-ae88-4f8b-9479-c24cbf081f2a div.sk-toggleable__content {max-height: 0;max-width: 0;overflow: hidden;text-align: left;background-color: #f0f8ff;}#sk-de5319b8-ae88-4f8b-9479-c24cbf081f2a div.sk-toggleable__content pre {margin: 0.2em;color: black;border-radius: 0.25em;background-color: #f0f8ff;}#sk-de5319b8-ae88-4f8b-9479-c24cbf081f2a input.sk-toggleable__control:checked~div.sk-toggleable__content {max-height: 200px;max-width: 100%;overflow: auto;}#sk-de5319b8-ae88-4f8b-9479-c24cbf081f2a input.sk-toggleable__control:checked~label.sk-toggleable__label-arrow:before {content: \"▾\";}#sk-de5319b8-ae88-4f8b-9479-c24cbf081f2a div.sk-estimator input.sk-toggleable__control:checked~label.sk-toggleable__label {background-color: #d4ebff;}#sk-de5319b8-ae88-4f8b-9479-c24cbf081f2a div.sk-label input.sk-toggleable__control:checked~label.sk-toggleable__label {background-color: #d4ebff;}#sk-de5319b8-ae88-4f8b-9479-c24cbf081f2a input.sk-hidden--visually {border: 0;clip: rect(1px 1px 1px 1px);clip: rect(1px, 1px, 1px, 1px);height: 1px;margin: -1px;overflow: hidden;padding: 0;position: absolute;width: 1px;}#sk-de5319b8-ae88-4f8b-9479-c24cbf081f2a div.sk-estimator {font-family: monospace;background-color: #f0f8ff;border: 1px dotted black;border-radius: 0.25em;box-sizing: border-box;margin-bottom: 0.5em;}#sk-de5319b8-ae88-4f8b-9479-c24cbf081f2a div.sk-estimator:hover {background-color: #d4ebff;}#sk-de5319b8-ae88-4f8b-9479-c24cbf081f2a div.sk-parallel-item::after {content: \"\";width: 100%;border-bottom: 1px solid gray;flex-grow: 1;}#sk-de5319b8-ae88-4f8b-9479-c24cbf081f2a div.sk-label:hover label.sk-toggleable__label {background-color: #d4ebff;}#sk-de5319b8-ae88-4f8b-9479-c24cbf081f2a div.sk-serial::before {content: \"\";position: absolute;border-left: 1px solid gray;box-sizing: border-box;top: 2em;bottom: 0;left: 50%;}#sk-de5319b8-ae88-4f8b-9479-c24cbf081f2a div.sk-serial {display: flex;flex-direction: column;align-items: center;background-color: white;padding-right: 0.2em;padding-left: 0.2em;}#sk-de5319b8-ae88-4f8b-9479-c24cbf081f2a div.sk-item {z-index: 1;}#sk-de5319b8-ae88-4f8b-9479-c24cbf081f2a div.sk-parallel {display: flex;align-items: stretch;justify-content: center;background-color: white;}#sk-de5319b8-ae88-4f8b-9479-c24cbf081f2a div.sk-parallel::before {content: \"\";position: absolute;border-left: 1px solid gray;box-sizing: border-box;top: 2em;bottom: 0;left: 50%;}#sk-de5319b8-ae88-4f8b-9479-c24cbf081f2a div.sk-parallel-item {display: flex;flex-direction: column;position: relative;background-color: white;}#sk-de5319b8-ae88-4f8b-9479-c24cbf081f2a div.sk-parallel-item:first-child::after {align-self: flex-end;width: 50%;}#sk-de5319b8-ae88-4f8b-9479-c24cbf081f2a div.sk-parallel-item:last-child::after {align-self: flex-start;width: 50%;}#sk-de5319b8-ae88-4f8b-9479-c24cbf081f2a div.sk-parallel-item:only-child::after {width: 0;}#sk-de5319b8-ae88-4f8b-9479-c24cbf081f2a div.sk-dashed-wrapped {border: 1px dashed gray;margin: 0 0.4em 0.5em 0.4em;box-sizing: border-box;padding-bottom: 0.4em;background-color: white;position: relative;}#sk-de5319b8-ae88-4f8b-9479-c24cbf081f2a div.sk-label label {font-family: monospace;font-weight: bold;background-color: white;display: inline-block;line-height: 1.2em;}#sk-de5319b8-ae88-4f8b-9479-c24cbf081f2a div.sk-label-container {position: relative;z-index: 2;text-align: center;}#sk-de5319b8-ae88-4f8b-9479-c24cbf081f2a div.sk-container {/* jupyter's `normalize.less` sets `[hidden] { display: none; }` but bootstrap.min.css set `[hidden] { display: none !important; }` so we also need the `!important` here to be able to override the default hidden behavior on the sphinx rendered scikit-learn.org. See: https://github.com/scikit-learn/scikit-learn/issues/21755 */display: inline-block !important;position: relative;}#sk-de5319b8-ae88-4f8b-9479-c24cbf081f2a div.sk-text-repr-fallback {display: none;}</style><div id=\"sk-de5319b8-ae88-4f8b-9479-c24cbf081f2a\" class=\"sk-top-container\"><div class=\"sk-text-repr-fallback\"><pre>GridSearchCV(estimator=Pipeline(steps=[(&#x27;columntransformer&#x27;,\n",
              "                                        ColumnTransformer(transformers=[(&#x27;standardscaler&#x27;,\n",
              "                                                                         StandardScaler(),\n",
              "                                                                         &lt;sklearn.compose._column_transformer.make_column_selector object at 0x7f89e5660690&gt;)])),\n",
              "                                       (&#x27;pipeline&#x27;,\n",
              "                                        Pipeline(steps=[(&#x27;smote&#x27;,\n",
              "                                                         SMOTE(random_state=42)),\n",
              "                                                        (&#x27;knn&#x27;,\n",
              "                                                         KNeighborsClassifier())]))]),\n",
              "             param_grid={&#x27;pipeline__knn__n_neighbors&#x27;: [5, 7, 9, 11],\n",
              "                         &#x27;pipeline__knn__p&#x27;: [2, 3, 4],\n",
              "                         &#x27;pipeline__knn__weights&#x27;: [&#x27;uniform&#x27;, &#x27;distance&#x27;]})</pre><b>Please rerun this cell to show the HTML repr or trust the notebook.</b></div><div class=\"sk-container\" hidden><div class=\"sk-item sk-dashed-wrapped\"><div class=\"sk-label-container\"><div class=\"sk-label sk-toggleable\"><input class=\"sk-toggleable__control sk-hidden--visually\" id=\"df029e34-f607-4844-a28b-c79a9caf3fe2\" type=\"checkbox\" ><label for=\"df029e34-f607-4844-a28b-c79a9caf3fe2\" class=\"sk-toggleable__label sk-toggleable__label-arrow\">GridSearchCV</label><div class=\"sk-toggleable__content\"><pre>GridSearchCV(estimator=Pipeline(steps=[(&#x27;columntransformer&#x27;,\n",
              "                                        ColumnTransformer(transformers=[(&#x27;standardscaler&#x27;,\n",
              "                                                                         StandardScaler(),\n",
              "                                                                         &lt;sklearn.compose._column_transformer.make_column_selector object at 0x7f89e5660690&gt;)])),\n",
              "                                       (&#x27;pipeline&#x27;,\n",
              "                                        Pipeline(steps=[(&#x27;smote&#x27;,\n",
              "                                                         SMOTE(random_state=42)),\n",
              "                                                        (&#x27;knn&#x27;,\n",
              "                                                         KNeighborsClassifier())]))]),\n",
              "             param_grid={&#x27;pipeline__knn__n_neighbors&#x27;: [5, 7, 9, 11],\n",
              "                         &#x27;pipeline__knn__p&#x27;: [2, 3, 4],\n",
              "                         &#x27;pipeline__knn__weights&#x27;: [&#x27;uniform&#x27;, &#x27;distance&#x27;]})</pre></div></div></div><div class=\"sk-parallel\"><div class=\"sk-parallel-item\"><div class=\"sk-item\"><div class=\"sk-serial\"><div class=\"sk-item\"><div class=\"sk-serial\"><div class=\"sk-item sk-dashed-wrapped\"><div class=\"sk-label-container\"><div class=\"sk-label sk-toggleable\"><input class=\"sk-toggleable__control sk-hidden--visually\" id=\"394dc263-0ee3-4ed9-b630-f98f34c8fd4d\" type=\"checkbox\" ><label for=\"394dc263-0ee3-4ed9-b630-f98f34c8fd4d\" class=\"sk-toggleable__label sk-toggleable__label-arrow\">columntransformer: ColumnTransformer</label><div class=\"sk-toggleable__content\"><pre>ColumnTransformer(transformers=[(&#x27;standardscaler&#x27;, StandardScaler(),\n",
              "                                 &lt;sklearn.compose._column_transformer.make_column_selector object at 0x7f89e5660690&gt;)])</pre></div></div></div><div class=\"sk-parallel\"><div class=\"sk-parallel-item\"><div class=\"sk-item\"><div class=\"sk-label-container\"><div class=\"sk-label sk-toggleable\"><input class=\"sk-toggleable__control sk-hidden--visually\" id=\"d6352152-8a9b-4510-ab6c-a0d135b91e5f\" type=\"checkbox\" ><label for=\"d6352152-8a9b-4510-ab6c-a0d135b91e5f\" class=\"sk-toggleable__label sk-toggleable__label-arrow\">standardscaler</label><div class=\"sk-toggleable__content\"><pre>&lt;sklearn.compose._column_transformer.make_column_selector object at 0x7f89e5660690&gt;</pre></div></div></div><div class=\"sk-serial\"><div class=\"sk-item\"><div class=\"sk-estimator sk-toggleable\"><input class=\"sk-toggleable__control sk-hidden--visually\" id=\"5efb673a-ce3d-448c-8ab3-5d35931e76e0\" type=\"checkbox\" ><label for=\"5efb673a-ce3d-448c-8ab3-5d35931e76e0\" class=\"sk-toggleable__label sk-toggleable__label-arrow\">StandardScaler</label><div class=\"sk-toggleable__content\"><pre>StandardScaler()</pre></div></div></div></div></div></div></div></div><div class=\"sk-item\"><div class=\"sk-label-container\"><div class=\"sk-label sk-toggleable\"><input class=\"sk-toggleable__control sk-hidden--visually\" id=\"30a63bb9-b2a6-439e-b65c-5940718eb4e9\" type=\"checkbox\" ><label for=\"30a63bb9-b2a6-439e-b65c-5940718eb4e9\" class=\"sk-toggleable__label sk-toggleable__label-arrow\">pipeline: Pipeline</label><div class=\"sk-toggleable__content\"><pre>Pipeline(steps=[(&#x27;smote&#x27;, SMOTE(random_state=42)),\n",
              "                (&#x27;knn&#x27;, KNeighborsClassifier())])</pre></div></div></div><div class=\"sk-serial\"><div class=\"sk-item\"><div class=\"sk-estimator sk-toggleable\"><input class=\"sk-toggleable__control sk-hidden--visually\" id=\"18c6feab-2357-4147-8a08-a82969e0b6cf\" type=\"checkbox\" ><label for=\"18c6feab-2357-4147-8a08-a82969e0b6cf\" class=\"sk-toggleable__label sk-toggleable__label-arrow\">SMOTE</label><div class=\"sk-toggleable__content\"><pre>SMOTE(random_state=42)</pre></div></div></div><div class=\"sk-item\"><div class=\"sk-estimator sk-toggleable\"><input class=\"sk-toggleable__control sk-hidden--visually\" id=\"61cb0da2-5c74-4a53-9d9b-fde766fdc0fa\" type=\"checkbox\" ><label for=\"61cb0da2-5c74-4a53-9d9b-fde766fdc0fa\" class=\"sk-toggleable__label sk-toggleable__label-arrow\">KNeighborsClassifier</label><div class=\"sk-toggleable__content\"><pre>KNeighborsClassifier()</pre></div></div></div></div></div></div></div></div></div></div></div></div></div></div>"
            ]
          },
          "metadata": {},
          "execution_count": 328
        }
      ]
    },
    {
      "cell_type": "code",
      "source": [
        "#Retrieving the best parameters\n",
        "knn_gs.best_params_"
      ],
      "metadata": {
        "id": "oIxtCx8IyuYl",
        "colab": {
          "base_uri": "https://localhost:8080/"
        },
        "outputId": "19434900-8725-4f1d-baa8-901518f2cc85"
      },
      "execution_count": 329,
      "outputs": [
        {
          "output_type": "execute_result",
          "data": {
            "text/plain": [
              "{'pipeline__knn__n_neighbors': 5,\n",
              " 'pipeline__knn__p': 4,\n",
              " 'pipeline__knn__weights': 'uniform'}"
            ]
          },
          "metadata": {},
          "execution_count": 329
        }
      ]
    },
    {
      "cell_type": "code",
      "source": [
        "best_knn_pipe = knn_gs.best_estimator_"
      ],
      "metadata": {
        "id": "_X7dqiswy0K6"
      },
      "execution_count": 330,
      "outputs": []
    },
    {
      "cell_type": "markdown",
      "source": [
        "#**Predictions**"
      ],
      "metadata": {
        "id": "8RvFtTn1xonn"
      }
    },
    {
      "cell_type": "code",
      "source": [
        "#Prediction using the best parameters\n",
        "train_knn_preds = best_knn_pipe.predict(X_train)\n",
        "test_knn_preds =best_knn_pipe.predict(X_test)"
      ],
      "metadata": {
        "id": "u3OV8UlVxq45"
      },
      "execution_count": 331,
      "outputs": []
    },
    {
      "cell_type": "markdown",
      "source": [
        "###**Classification Report on KNeigbor Classifier**"
      ],
      "metadata": {
        "id": "CiVznGEjxwgP"
      }
    },
    {
      "cell_type": "code",
      "source": [
        "train_report = classification_report(y_train, train_knn_preds)\n",
        "test_report = classification_report(y_test, test_knn_preds)"
      ],
      "metadata": {
        "id": "QoTNcDAkOOAV"
      },
      "execution_count": 332,
      "outputs": []
    },
    {
      "cell_type": "code",
      "source": [
        "print(f'Evaluation metrics on Knn model with tuned parameters\\n\\n Train set:\\n{train_report}')\n",
        "print(\"______________________________________\\n\")\n",
        "print(f'Evaluation metrics on Knn model with tuned parameters\\n\\n Test set:\\n{test_report}')"
      ],
      "metadata": {
        "id": "xCLoJJ_ZzuDf",
        "colab": {
          "base_uri": "https://localhost:8080/"
        },
        "outputId": "a92e313c-cd1b-421d-e5b0-f2f6e12f5363"
      },
      "execution_count": 333,
      "outputs": [
        {
          "output_type": "stream",
          "name": "stdout",
          "text": [
            "Evaluation metrics on Knn model with tuned parameters\n",
            "\n",
            " Train set:\n",
            "              precision    recall  f1-score   support\n",
            "\n",
            "           0       0.70      0.88      0.78        26\n",
            "           1       0.96      0.88      0.92        84\n",
            "\n",
            "    accuracy                           0.88       110\n",
            "   macro avg       0.83      0.88      0.85       110\n",
            "weighted avg       0.90      0.88      0.89       110\n",
            "\n",
            "______________________________________\n",
            "\n",
            "Evaluation metrics on Knn model with tuned parameters\n",
            "\n",
            " Test set:\n",
            "              precision    recall  f1-score   support\n",
            "\n",
            "           0       0.69      1.00      0.81        11\n",
            "           1       1.00      0.81      0.89        26\n",
            "\n",
            "    accuracy                           0.86        37\n",
            "   macro avg       0.84      0.90      0.85        37\n",
            "weighted avg       0.91      0.86      0.87        37\n",
            "\n"
          ]
        }
      ]
    },
    {
      "cell_type": "markdown",
      "source": [
        "###**Confusion Matrix on KNeigbor Classifier**"
      ],
      "metadata": {
        "id": "0gt4RhOxz4dx"
      }
    },
    {
      "cell_type": "markdown",
      "source": [
        "**Train**"
      ],
      "metadata": {
        "id": "Ta-KSp5q0KAw"
      }
    },
    {
      "cell_type": "code",
      "source": [
        "ConfusionMatrixDisplay.from_estimator(best_knn_pipe, X_train, y_train, cmap =\"Reds\");"
      ],
      "metadata": {
        "id": "7v0E9P8R0FPP",
        "colab": {
          "base_uri": "https://localhost:8080/",
          "height": 394
        },
        "outputId": "d8fda29a-a4fd-4133-9417-15db3d282603"
      },
      "execution_count": 334,
      "outputs": [
        {
          "output_type": "display_data",
          "data": {
            "text/plain": [
              "<Figure size 2016x432 with 2 Axes>"
            ],
            "image/png": "[encoded data removed]"
          },
          "metadata": {}
        }
      ]
    },
    {
      "cell_type": "markdown",
      "source": [
        "The KNN model did not do well in predicting the true positives and the true negatives for the train set. It predicted 10, false negative and 3 false positive."
      ],
      "metadata": {
        "id": "vqnUrYzmUDlp"
      }
    },
    {
      "cell_type": "markdown",
      "source": [
        "**Test**"
      ],
      "metadata": {
        "id": "UbYvuuVc0d08"
      }
    },
    {
      "cell_type": "code",
      "source": [
        "ConfusionMatrixDisplay.from_estimator(best_knn_pipe, X_test, y_test, cmap=\"Reds\");"
      ],
      "metadata": {
        "id": "-ARCTAVk0fty",
        "colab": {
          "base_uri": "https://localhost:8080/",
          "height": 394
        },
        "outputId": "ec5989dd-cd02-4154-824e-64e8d39394c8"
      },
      "execution_count": 335,
      "outputs": [
        {
          "output_type": "display_data",
          "data": {
            "text/plain": [
              "<Figure size 2016x432 with 2 Axes>"
            ],
            "image/png": "[encoded data removed]"
          },
          "metadata": {}
        }
      ]
    },
    {
      "cell_type": "markdown",
      "source": [
        "Although, the KNN model did poor on the train set, it performed better on the test set, this is a sign of underfit. It predicted 5 false negative, but did well in predicting the false false positives, true positives and true negatives. "
      ],
      "metadata": {
        "id": "zLwBnihCUV6z"
      }
    },
    {
      "cell_type": "markdown",
      "source": [
        "#**Instantiating the Light Classifier**"
      ],
      "metadata": {
        "id": "0T7rgwst2Sk_"
      }
    },
    {
      "cell_type": "code",
      "source": [
        "lgbm =LGBMClassifier(num_leaves=37, objective='binary')\n",
        "\n",
        "#Instantiating smote for handling imbalanced y target vector.\n",
        "smote = SMOTE(random_state = 42)\n"
      ],
      "metadata": {
        "id": "8F-XgmRp2QwK"
      },
      "execution_count": 416,
      "outputs": []
    },
    {
      "cell_type": "code",
      "source": [
        "#Creating a pipeline to contain smote and the lgbm classifier\n",
        "LS_pipe = Pipeline([(\"smote\", smote),(\"lgbm\", lgbm)])"
      ],
      "metadata": {
        "id": "Rkk9KPG6z6d5"
      },
      "execution_count": 417,
      "outputs": []
    },
    {
      "cell_type": "code",
      "source": [
        "lgbm_pipe = make_pipeline(column_transformer, LS_pipe)\n",
        "\n",
        "#Fitting lgbm classifier, scaler and smote on the X and y train.\n",
        "lgbm_pipe.fit(X_train, y_train)"
      ],
      "metadata": {
        "colab": {
          "base_uri": "https://localhost:8080/",
          "height": 252
        },
        "id": "yCWSSrbI4cVB",
        "outputId": "2f7914cf-c0dc-41c9-e7d2-c55e1773f55e"
      },
      "execution_count": 418,
      "outputs": [
        {
          "output_type": "execute_result",
          "data": {
            "text/plain": [
              "Pipeline(steps=[('columntransformer',\n",
              "                 ColumnTransformer(transformers=[('standardscaler',\n",
              "                                                  StandardScaler(),\n",
              "                                                  <sklearn.compose._column_transformer.make_column_selector object at 0x7f89e5660690>)])),\n",
              "                ('pipeline',\n",
              "                 Pipeline(steps=[('smote', SMOTE(random_state=42)),\n",
              "                                 ('lgbm',\n",
              "                                  LGBMClassifier(num_leaves=37,\n",
              "                                                 objective='binary'))]))])"
            ],
            "text/html": [
              "<style>#sk-56e76f02-8f62-4249-a94b-ffdaac6133f3 {color: black;background-color: white;}#sk-56e76f02-8f62-4249-a94b-ffdaac6133f3 pre{padding: 0;}#sk-56e76f02-8f62-4249-a94b-ffdaac6133f3 div.sk-toggleable {background-color: white;}#sk-56e76f02-8f62-4249-a94b-ffdaac6133f3 label.sk-toggleable__label {cursor: pointer;display: block;width: 100%;margin-bottom: 0;padding: 0.3em;box-sizing: border-box;text-align: center;}#sk-56e76f02-8f62-4249-a94b-ffdaac6133f3 label.sk-toggleable__label-arrow:before {content: \"▸\";float: left;margin-right: 0.25em;color: #696969;}#sk-56e76f02-8f62-4249-a94b-ffdaac6133f3 label.sk-toggleable__label-arrow:hover:before {color: black;}#sk-56e76f02-8f62-4249-a94b-ffdaac6133f3 div.sk-estimator:hover label.sk-toggleable__label-arrow:before {color: black;}#sk-56e76f02-8f62-4249-a94b-ffdaac6133f3 div.sk-toggleable__content {max-height: 0;max-width: 0;overflow: hidden;text-align: left;background-color: #f0f8ff;}#sk-56e76f02-8f62-4249-a94b-ffdaac6133f3 div.sk-toggleable__content pre {margin: 0.2em;color: black;border-radius: 0.25em;background-color: #f0f8ff;}#sk-56e76f02-8f62-4249-a94b-ffdaac6133f3 input.sk-toggleable__control:checked~div.sk-toggleable__content {max-height: 200px;max-width: 100%;overflow: auto;}#sk-56e76f02-8f62-4249-a94b-ffdaac6133f3 input.sk-toggleable__control:checked~label.sk-toggleable__label-arrow:before {content: \"▾\";}#sk-56e76f02-8f62-4249-a94b-ffdaac6133f3 div.sk-estimator input.sk-toggleable__control:checked~label.sk-toggleable__label {background-color: #d4ebff;}#sk-56e76f02-8f62-4249-a94b-ffdaac6133f3 div.sk-label input.sk-toggleable__control:checked~label.sk-toggleable__label {background-color: #d4ebff;}#sk-56e76f02-8f62-4249-a94b-ffdaac6133f3 input.sk-hidden--visually {border: 0;clip: rect(1px 1px 1px 1px);clip: rect(1px, 1px, 1px, 1px);height: 1px;margin: -1px;overflow: hidden;padding: 0;position: absolute;width: 1px;}#sk-56e76f02-8f62-4249-a94b-ffdaac6133f3 div.sk-estimator {font-family: monospace;background-color: #f0f8ff;border: 1px dotted black;border-radius: 0.25em;box-sizing: border-box;margin-bottom: 0.5em;}#sk-56e76f02-8f62-4249-a94b-ffdaac6133f3 div.sk-estimator:hover {background-color: #d4ebff;}#sk-56e76f02-8f62-4249-a94b-ffdaac6133f3 div.sk-parallel-item::after {content: \"\";width: 100%;border-bottom: 1px solid gray;flex-grow: 1;}#sk-56e76f02-8f62-4249-a94b-ffdaac6133f3 div.sk-label:hover label.sk-toggleable__label {background-color: #d4ebff;}#sk-56e76f02-8f62-4249-a94b-ffdaac6133f3 div.sk-serial::before {content: \"\";position: absolute;border-left: 1px solid gray;box-sizing: border-box;top: 2em;bottom: 0;left: 50%;}#sk-56e76f02-8f62-4249-a94b-ffdaac6133f3 div.sk-serial {display: flex;flex-direction: column;align-items: center;background-color: white;padding-right: 0.2em;padding-left: 0.2em;}#sk-56e76f02-8f62-4249-a94b-ffdaac6133f3 div.sk-item {z-index: 1;}#sk-56e76f02-8f62-4249-a94b-ffdaac6133f3 div.sk-parallel {display: flex;align-items: stretch;justify-content: center;background-color: white;}#sk-56e76f02-8f62-4249-a94b-ffdaac6133f3 div.sk-parallel::before {content: \"\";position: absolute;border-left: 1px solid gray;box-sizing: border-box;top: 2em;bottom: 0;left: 50%;}#sk-56e76f02-8f62-4249-a94b-ffdaac6133f3 div.sk-parallel-item {display: flex;flex-direction: column;position: relative;background-color: white;}#sk-56e76f02-8f62-4249-a94b-ffdaac6133f3 div.sk-parallel-item:first-child::after {align-self: flex-end;width: 50%;}#sk-56e76f02-8f62-4249-a94b-ffdaac6133f3 div.sk-parallel-item:last-child::after {align-self: flex-start;width: 50%;}#sk-56e76f02-8f62-4249-a94b-ffdaac6133f3 div.sk-parallel-item:only-child::after {width: 0;}#sk-56e76f02-8f62-4249-a94b-ffdaac6133f3 div.sk-dashed-wrapped {border: 1px dashed gray;margin: 0 0.4em 0.5em 0.4em;box-sizing: border-box;padding-bottom: 0.4em;background-color: white;position: relative;}#sk-56e76f02-8f62-4249-a94b-ffdaac6133f3 div.sk-label label {font-family: monospace;font-weight: bold;background-color: white;display: inline-block;line-height: 1.2em;}#sk-56e76f02-8f62-4249-a94b-ffdaac6133f3 div.sk-label-container {position: relative;z-index: 2;text-align: center;}#sk-56e76f02-8f62-4249-a94b-ffdaac6133f3 div.sk-container {/* jupyter's `normalize.less` sets `[hidden] { display: none; }` but bootstrap.min.css set `[hidden] { display: none !important; }` so we also need the `!important` here to be able to override the default hidden behavior on the sphinx rendered scikit-learn.org. See: https://github.com/scikit-learn/scikit-learn/issues/21755 */display: inline-block !important;position: relative;}#sk-56e76f02-8f62-4249-a94b-ffdaac6133f3 div.sk-text-repr-fallback {display: none;}</style><div id=\"sk-56e76f02-8f62-4249-a94b-ffdaac6133f3\" class=\"sk-top-container\"><div class=\"sk-text-repr-fallback\"><pre>Pipeline(steps=[(&#x27;columntransformer&#x27;,\n",
              "                 ColumnTransformer(transformers=[(&#x27;standardscaler&#x27;,\n",
              "                                                  StandardScaler(),\n",
              "                                                  &lt;sklearn.compose._column_transformer.make_column_selector object at 0x7f89e5660690&gt;)])),\n",
              "                (&#x27;pipeline&#x27;,\n",
              "                 Pipeline(steps=[(&#x27;smote&#x27;, SMOTE(random_state=42)),\n",
              "                                 (&#x27;lgbm&#x27;,\n",
              "                                  LGBMClassifier(num_leaves=37,\n",
              "                                                 objective=&#x27;binary&#x27;))]))])</pre><b>Please rerun this cell to show the HTML repr or trust the notebook.</b></div><div class=\"sk-container\" hidden><div class=\"sk-item sk-dashed-wrapped\"><div class=\"sk-label-container\"><div class=\"sk-label sk-toggleable\"><input class=\"sk-toggleable__control sk-hidden--visually\" id=\"5beb6de5-3d98-4578-9f91-a036b718e43c\" type=\"checkbox\" ><label for=\"5beb6de5-3d98-4578-9f91-a036b718e43c\" class=\"sk-toggleable__label sk-toggleable__label-arrow\">Pipeline</label><div class=\"sk-toggleable__content\"><pre>Pipeline(steps=[(&#x27;columntransformer&#x27;,\n",
              "                 ColumnTransformer(transformers=[(&#x27;standardscaler&#x27;,\n",
              "                                                  StandardScaler(),\n",
              "                                                  &lt;sklearn.compose._column_transformer.make_column_selector object at 0x7f89e5660690&gt;)])),\n",
              "                (&#x27;pipeline&#x27;,\n",
              "                 Pipeline(steps=[(&#x27;smote&#x27;, SMOTE(random_state=42)),\n",
              "                                 (&#x27;lgbm&#x27;,\n",
              "                                  LGBMClassifier(num_leaves=37,\n",
              "                                                 objective=&#x27;binary&#x27;))]))])</pre></div></div></div><div class=\"sk-serial\"><div class=\"sk-item sk-dashed-wrapped\"><div class=\"sk-label-container\"><div class=\"sk-label sk-toggleable\"><input class=\"sk-toggleable__control sk-hidden--visually\" id=\"f8818ae1-2464-40a6-a012-241ef029e473\" type=\"checkbox\" ><label for=\"f8818ae1-2464-40a6-a012-241ef029e473\" class=\"sk-toggleable__label sk-toggleable__label-arrow\">columntransformer: ColumnTransformer</label><div class=\"sk-toggleable__content\"><pre>ColumnTransformer(transformers=[(&#x27;standardscaler&#x27;, StandardScaler(),\n",
              "                                 &lt;sklearn.compose._column_transformer.make_column_selector object at 0x7f89e5660690&gt;)])</pre></div></div></div><div class=\"sk-parallel\"><div class=\"sk-parallel-item\"><div class=\"sk-item\"><div class=\"sk-label-container\"><div class=\"sk-label sk-toggleable\"><input class=\"sk-toggleable__control sk-hidden--visually\" id=\"6231534e-08dd-4551-92da-f56bea46fbc1\" type=\"checkbox\" ><label for=\"6231534e-08dd-4551-92da-f56bea46fbc1\" class=\"sk-toggleable__label sk-toggleable__label-arrow\">standardscaler</label><div class=\"sk-toggleable__content\"><pre>&lt;sklearn.compose._column_transformer.make_column_selector object at 0x7f89e5660690&gt;</pre></div></div></div><div class=\"sk-serial\"><div class=\"sk-item\"><div class=\"sk-estimator sk-toggleable\"><input class=\"sk-toggleable__control sk-hidden--visually\" id=\"4bf84dfe-ed8f-49e8-ac09-3a93258f1edb\" type=\"checkbox\" ><label for=\"4bf84dfe-ed8f-49e8-ac09-3a93258f1edb\" class=\"sk-toggleable__label sk-toggleable__label-arrow\">StandardScaler</label><div class=\"sk-toggleable__content\"><pre>StandardScaler()</pre></div></div></div></div></div></div></div></div><div class=\"sk-item\"><div class=\"sk-label-container\"><div class=\"sk-label sk-toggleable\"><input class=\"sk-toggleable__control sk-hidden--visually\" id=\"175fdd58-d3d8-4ca1-af23-00f8a5e6ef02\" type=\"checkbox\" ><label for=\"175fdd58-d3d8-4ca1-af23-00f8a5e6ef02\" class=\"sk-toggleable__label sk-toggleable__label-arrow\">pipeline: Pipeline</label><div class=\"sk-toggleable__content\"><pre>Pipeline(steps=[(&#x27;smote&#x27;, SMOTE(random_state=42)),\n",
              "                (&#x27;lgbm&#x27;, LGBMClassifier(num_leaves=37, objective=&#x27;binary&#x27;))])</pre></div></div></div><div class=\"sk-serial\"><div class=\"sk-item\"><div class=\"sk-estimator sk-toggleable\"><input class=\"sk-toggleable__control sk-hidden--visually\" id=\"e72568ea-61b1-4abf-809a-0900e41beaea\" type=\"checkbox\" ><label for=\"e72568ea-61b1-4abf-809a-0900e41beaea\" class=\"sk-toggleable__label sk-toggleable__label-arrow\">SMOTE</label><div class=\"sk-toggleable__content\"><pre>SMOTE(random_state=42)</pre></div></div></div><div class=\"sk-item\"><div class=\"sk-estimator sk-toggleable\"><input class=\"sk-toggleable__control sk-hidden--visually\" id=\"1284d43f-316c-410f-8a91-64c372bbe599\" type=\"checkbox\" ><label for=\"1284d43f-316c-410f-8a91-64c372bbe599\" class=\"sk-toggleable__label sk-toggleable__label-arrow\">LGBMClassifier</label><div class=\"sk-toggleable__content\"><pre>LGBMClassifier(num_leaves=37, objective=&#x27;binary&#x27;)</pre></div></div></div></div></div></div></div></div></div>"
            ]
          },
          "metadata": {},
          "execution_count": 418
        }
      ]
    },
    {
      "cell_type": "markdown",
      "source": [
        "##**Predictions**"
      ],
      "metadata": {
        "id": "kPDNFzm_kEH0"
      }
    },
    {
      "cell_type": "code",
      "source": [
        "lgbm_train_preds = lgbm_pipe.predict(X_train)\n",
        "lgbm_test_preds = lgbm_pipe.predict(X_test)"
      ],
      "metadata": {
        "id": "GU6xGVoE3MyP"
      },
      "execution_count": 420,
      "outputs": []
    },
    {
      "cell_type": "markdown",
      "source": [
        "###**Model Evaluation**"
      ],
      "metadata": {
        "id": "vlJYJxDA2s9X"
      }
    },
    {
      "cell_type": "code",
      "source": [
        "lgbm_train_report =classification_report(y_train, lgbm_train_preds)\n",
        "lgbm_test_report = classification_report(y_test, lgbm_test_preds)"
      ],
      "metadata": {
        "id": "jwBQa_dE3wVe"
      },
      "execution_count": 421,
      "outputs": []
    },
    {
      "cell_type": "code",
      "source": [
        "print(f'Evaluation metrics on Knn model with tuned parameters\\n\\n Train set:\\n{lgbm_train_report}')\n",
        "print(\"______________________________________\\n\")\n",
        "print(f'Evaluation metrics on Knn model with tuned parameters\\n\\n Test set:\\n{lgbm_test_report}')"
      ],
      "metadata": {
        "id": "rTGoi3HZ225m",
        "colab": {
          "base_uri": "https://localhost:8080/"
        },
        "outputId": "29344aaa-66a8-423a-f0e1-13e9c69bc947"
      },
      "execution_count": 422,
      "outputs": [
        {
          "output_type": "stream",
          "name": "stdout",
          "text": [
            "Evaluation metrics on Knn model with tuned parameters\n",
            "\n",
            " Train set:\n",
            "              precision    recall  f1-score   support\n",
            "\n",
            "           0       1.00      1.00      1.00        26\n",
            "           1       1.00      1.00      1.00        84\n",
            "\n",
            "    accuracy                           1.00       110\n",
            "   macro avg       1.00      1.00      1.00       110\n",
            "weighted avg       1.00      1.00      1.00       110\n",
            "\n",
            "______________________________________\n",
            "\n",
            "Evaluation metrics on Knn model with tuned parameters\n",
            "\n",
            " Test set:\n",
            "              precision    recall  f1-score   support\n",
            "\n",
            "           0       0.92      1.00      0.96        11\n",
            "           1       1.00      0.96      0.98        26\n",
            "\n",
            "    accuracy                           0.97        37\n",
            "   macro avg       0.96      0.98      0.97        37\n",
            "weighted avg       0.98      0.97      0.97        37\n",
            "\n"
          ]
        }
      ]
    },
    {
      "cell_type": "markdown",
      "source": [
        "##**Confusion Matrices for model performance evaluation**"
      ],
      "metadata": {
        "id": "cPZCn9eLkM-N"
      }
    },
    {
      "cell_type": "markdown",
      "source": [
        "###**Train Set**"
      ],
      "metadata": {
        "id": "VUVfq_EAkm5G"
      }
    },
    {
      "cell_type": "code",
      "source": [
        "ConfusionMatrixDisplay.from_estimator(lgbm_pipe, X_train, y_train, cmap =\"Greens\");"
      ],
      "metadata": {
        "id": "qjBk1d-64VPO",
        "colab": {
          "base_uri": "https://localhost:8080/",
          "height": 394
        },
        "outputId": "87160454-eba6-4971-f845-2c56b6ab25a5"
      },
      "execution_count": 423,
      "outputs": [
        {
          "output_type": "display_data",
          "data": {
            "text/plain": [
              "<Figure size 2016x432 with 2 Axes>"
            ],
            "image/png": "[encoded data removed]"
          },
          "metadata": {}
        }
      ]
    },
    {
      "cell_type": "markdown",
      "source": [
        "The IGBM model performed accurately on the train set"
      ],
      "metadata": {
        "id": "ms7sfqBuVBXx"
      }
    },
    {
      "cell_type": "markdown",
      "source": [
        "###**Test Set**"
      ],
      "metadata": {
        "id": "owPttWdMkvBp"
      }
    },
    {
      "cell_type": "code",
      "source": [
        "ConfusionMatrixDisplay.from_estimator(lgbm_pipe, X_test, y_test, cmap=\"Greens\");"
      ],
      "metadata": {
        "id": "Xx50y4gh4zR3",
        "colab": {
          "base_uri": "https://localhost:8080/",
          "height": 398
        },
        "outputId": "d4ea39ac-a43a-4dd4-93d5-0bf776e41fac"
      },
      "execution_count": 424,
      "outputs": [
        {
          "output_type": "display_data",
          "data": {
            "text/plain": [
              "<Figure size 2016x432 with 2 Axes>"
            ],
            "image/png": "[encoded data removed]"
          },
          "metadata": {}
        }
      ]
    },
    {
      "cell_type": "markdown",
      "source": [
        "The model also performed well on the test set. It had predicted only 1 false negative."
      ],
      "metadata": {
        "id": "mubioGAEVJQw"
      }
    },
    {
      "cell_type": "markdown",
      "source": [
        "#**XGBoost Classifier(xGBC)**"
      ],
      "metadata": {
        "id": "7vt2-Jx_5x1-"
      }
    },
    {
      "cell_type": "markdown",
      "source": [
        "###**Instantiating Model**"
      ],
      "metadata": {
        "id": "xT1XcnJc543-"
      }
    },
    {
      "cell_type": "code",
      "source": [
        "#Setting parameters for tuning\n",
        "params = {'max_depth': [3,6,10], \"learning_rate\": [0.01, 0.05, 0.1], \"n_estimators\": [100, 500, 1000], \"colsample_bytree\":[0.3, 0.7]}"
      ],
      "metadata": {
        "id": "7m_FYipAftac"
      },
      "execution_count": 425,
      "outputs": []
    },
    {
      "cell_type": "code",
      "source": [
        "#Instantiating model and fitting on x, y train\n",
        "xgbr = GridSearchCV(XGBClassifier(seed = 20), params)\n",
        "xgbr.fit(X_train, y_train)"
      ],
      "metadata": {
        "colab": {
          "base_uri": "https://localhost:8080/",
          "height": 93
        },
        "id": "x5Swx8g1reyg",
        "outputId": "690e62f0-8144-4df1-cd87-c24f7a6ee12b"
      },
      "execution_count": 426,
      "outputs": [
        {
          "output_type": "execute_result",
          "data": {
            "text/plain": [
              "GridSearchCV(estimator=XGBClassifier(seed=20),\n",
              "             param_grid={'colsample_bytree': [0.3, 0.7],\n",
              "                         'learning_rate': [0.01, 0.05, 0.1],\n",
              "                         'max_depth': [3, 6, 10],\n",
              "                         'n_estimators': [100, 500, 1000]})"
            ],
            "text/html": [
              "<style>#sk-8a9fb603-9fb2-4af5-b5e8-fc2fdfccdb4b {color: black;background-color: white;}#sk-8a9fb603-9fb2-4af5-b5e8-fc2fdfccdb4b pre{padding: 0;}#sk-8a9fb603-9fb2-4af5-b5e8-fc2fdfccdb4b div.sk-toggleable {background-color: white;}#sk-8a9fb603-9fb2-4af5-b5e8-fc2fdfccdb4b label.sk-toggleable__label {cursor: pointer;display: block;width: 100%;margin-bottom: 0;padding: 0.3em;box-sizing: border-box;text-align: center;}#sk-8a9fb603-9fb2-4af5-b5e8-fc2fdfccdb4b label.sk-toggleable__label-arrow:before {content: \"▸\";float: left;margin-right: 0.25em;color: #696969;}#sk-8a9fb603-9fb2-4af5-b5e8-fc2fdfccdb4b label.sk-toggleable__label-arrow:hover:before {color: black;}#sk-8a9fb603-9fb2-4af5-b5e8-fc2fdfccdb4b div.sk-estimator:hover label.sk-toggleable__label-arrow:before {color: black;}#sk-8a9fb603-9fb2-4af5-b5e8-fc2fdfccdb4b div.sk-toggleable__content {max-height: 0;max-width: 0;overflow: hidden;text-align: left;background-color: #f0f8ff;}#sk-8a9fb603-9fb2-4af5-b5e8-fc2fdfccdb4b div.sk-toggleable__content pre {margin: 0.2em;color: black;border-radius: 0.25em;background-color: #f0f8ff;}#sk-8a9fb603-9fb2-4af5-b5e8-fc2fdfccdb4b input.sk-toggleable__control:checked~div.sk-toggleable__content {max-height: 200px;max-width: 100%;overflow: auto;}#sk-8a9fb603-9fb2-4af5-b5e8-fc2fdfccdb4b input.sk-toggleable__control:checked~label.sk-toggleable__label-arrow:before {content: \"▾\";}#sk-8a9fb603-9fb2-4af5-b5e8-fc2fdfccdb4b div.sk-estimator input.sk-toggleable__control:checked~label.sk-toggleable__label {background-color: #d4ebff;}#sk-8a9fb603-9fb2-4af5-b5e8-fc2fdfccdb4b div.sk-label input.sk-toggleable__control:checked~label.sk-toggleable__label {background-color: #d4ebff;}#sk-8a9fb603-9fb2-4af5-b5e8-fc2fdfccdb4b input.sk-hidden--visually {border: 0;clip: rect(1px 1px 1px 1px);clip: rect(1px, 1px, 1px, 1px);height: 1px;margin: -1px;overflow: hidden;padding: 0;position: absolute;width: 1px;}#sk-8a9fb603-9fb2-4af5-b5e8-fc2fdfccdb4b div.sk-estimator {font-family: monospace;background-color: #f0f8ff;border: 1px dotted black;border-radius: 0.25em;box-sizing: border-box;margin-bottom: 0.5em;}#sk-8a9fb603-9fb2-4af5-b5e8-fc2fdfccdb4b div.sk-estimator:hover {background-color: #d4ebff;}#sk-8a9fb603-9fb2-4af5-b5e8-fc2fdfccdb4b div.sk-parallel-item::after {content: \"\";width: 100%;border-bottom: 1px solid gray;flex-grow: 1;}#sk-8a9fb603-9fb2-4af5-b5e8-fc2fdfccdb4b div.sk-label:hover label.sk-toggleable__label {background-color: #d4ebff;}#sk-8a9fb603-9fb2-4af5-b5e8-fc2fdfccdb4b div.sk-serial::before {content: \"\";position: absolute;border-left: 1px solid gray;box-sizing: border-box;top: 2em;bottom: 0;left: 50%;}#sk-8a9fb603-9fb2-4af5-b5e8-fc2fdfccdb4b div.sk-serial {display: flex;flex-direction: column;align-items: center;background-color: white;padding-right: 0.2em;padding-left: 0.2em;}#sk-8a9fb603-9fb2-4af5-b5e8-fc2fdfccdb4b div.sk-item {z-index: 1;}#sk-8a9fb603-9fb2-4af5-b5e8-fc2fdfccdb4b div.sk-parallel {display: flex;align-items: stretch;justify-content: center;background-color: white;}#sk-8a9fb603-9fb2-4af5-b5e8-fc2fdfccdb4b div.sk-parallel::before {content: \"\";position: absolute;border-left: 1px solid gray;box-sizing: border-box;top: 2em;bottom: 0;left: 50%;}#sk-8a9fb603-9fb2-4af5-b5e8-fc2fdfccdb4b div.sk-parallel-item {display: flex;flex-direction: column;position: relative;background-color: white;}#sk-8a9fb603-9fb2-4af5-b5e8-fc2fdfccdb4b div.sk-parallel-item:first-child::after {align-self: flex-end;width: 50%;}#sk-8a9fb603-9fb2-4af5-b5e8-fc2fdfccdb4b div.sk-parallel-item:last-child::after {align-self: flex-start;width: 50%;}#sk-8a9fb603-9fb2-4af5-b5e8-fc2fdfccdb4b div.sk-parallel-item:only-child::after {width: 0;}#sk-8a9fb603-9fb2-4af5-b5e8-fc2fdfccdb4b div.sk-dashed-wrapped {border: 1px dashed gray;margin: 0 0.4em 0.5em 0.4em;box-sizing: border-box;padding-bottom: 0.4em;background-color: white;position: relative;}#sk-8a9fb603-9fb2-4af5-b5e8-fc2fdfccdb4b div.sk-label label {font-family: monospace;font-weight: bold;background-color: white;display: inline-block;line-height: 1.2em;}#sk-8a9fb603-9fb2-4af5-b5e8-fc2fdfccdb4b div.sk-label-container {position: relative;z-index: 2;text-align: center;}#sk-8a9fb603-9fb2-4af5-b5e8-fc2fdfccdb4b div.sk-container {/* jupyter's `normalize.less` sets `[hidden] { display: none; }` but bootstrap.min.css set `[hidden] { display: none !important; }` so we also need the `!important` here to be able to override the default hidden behavior on the sphinx rendered scikit-learn.org. See: https://github.com/scikit-learn/scikit-learn/issues/21755 */display: inline-block !important;position: relative;}#sk-8a9fb603-9fb2-4af5-b5e8-fc2fdfccdb4b div.sk-text-repr-fallback {display: none;}</style><div id=\"sk-8a9fb603-9fb2-4af5-b5e8-fc2fdfccdb4b\" class=\"sk-top-container\"><div class=\"sk-text-repr-fallback\"><pre>GridSearchCV(estimator=XGBClassifier(seed=20),\n",
              "             param_grid={&#x27;colsample_bytree&#x27;: [0.3, 0.7],\n",
              "                         &#x27;learning_rate&#x27;: [0.01, 0.05, 0.1],\n",
              "                         &#x27;max_depth&#x27;: [3, 6, 10],\n",
              "                         &#x27;n_estimators&#x27;: [100, 500, 1000]})</pre><b>Please rerun this cell to show the HTML repr or trust the notebook.</b></div><div class=\"sk-container\" hidden><div class=\"sk-item sk-dashed-wrapped\"><div class=\"sk-label-container\"><div class=\"sk-label sk-toggleable\"><input class=\"sk-toggleable__control sk-hidden--visually\" id=\"87399888-dab9-4922-8c43-26b3a5c9c6f4\" type=\"checkbox\" ><label for=\"87399888-dab9-4922-8c43-26b3a5c9c6f4\" class=\"sk-toggleable__label sk-toggleable__label-arrow\">GridSearchCV</label><div class=\"sk-toggleable__content\"><pre>GridSearchCV(estimator=XGBClassifier(seed=20),\n",
              "             param_grid={&#x27;colsample_bytree&#x27;: [0.3, 0.7],\n",
              "                         &#x27;learning_rate&#x27;: [0.01, 0.05, 0.1],\n",
              "                         &#x27;max_depth&#x27;: [3, 6, 10],\n",
              "                         &#x27;n_estimators&#x27;: [100, 500, 1000]})</pre></div></div></div><div class=\"sk-parallel\"><div class=\"sk-parallel-item\"><div class=\"sk-item\"><div class=\"sk-serial\"><div class=\"sk-item\"><div class=\"sk-estimator sk-toggleable\"><input class=\"sk-toggleable__control sk-hidden--visually\" id=\"94c5ab51-81f4-4553-8e83-3a4c855d3e0d\" type=\"checkbox\" ><label for=\"94c5ab51-81f4-4553-8e83-3a4c855d3e0d\" class=\"sk-toggleable__label sk-toggleable__label-arrow\">XGBClassifier</label><div class=\"sk-toggleable__content\"><pre>XGBClassifier(seed=20)</pre></div></div></div></div></div></div></div></div></div></div>"
            ]
          },
          "metadata": {},
          "execution_count": 426
        }
      ]
    },
    {
      "cell_type": "code",
      "source": [
        "#Extracting best parameters\n",
        "xgbr.best_params_"
      ],
      "metadata": {
        "colab": {
          "base_uri": "https://localhost:8080/"
        },
        "id": "eFz9eg8iQRbR",
        "outputId": "c57bdc46-65d7-4098-8efb-07c4e6fbb329"
      },
      "execution_count": 428,
      "outputs": [
        {
          "output_type": "execute_result",
          "data": {
            "text/plain": [
              "{'colsample_bytree': 0.3,\n",
              " 'learning_rate': 0.01,\n",
              " 'max_depth': 6,\n",
              " 'n_estimators': 100}"
            ]
          },
          "metadata": {},
          "execution_count": 428
        }
      ]
    },
    {
      "cell_type": "code",
      "source": [
        "xgbr_params=xgbr.best_estimator_"
      ],
      "metadata": {
        "id": "rAiwOHlXP5dS"
      },
      "execution_count": 450,
      "outputs": []
    },
    {
      "cell_type": "code",
      "source": [
        "#Instantiating pipeline with smot and xgbr with best parameters\n",
        "XS_pipe = Pipeline([(\"smote\", SMOTE(random_state = 42)),(\"xgbr\",xgbr_params)])"
      ],
      "metadata": {
        "id": "k_Jm3g1v5eoy"
      },
      "execution_count": 451,
      "outputs": []
    },
    {
      "cell_type": "code",
      "source": [
        "xgb_pipe= make_pipeline(column_transformer, XS_pipe)"
      ],
      "metadata": {
        "id": "IRZQi7av5xQf"
      },
      "execution_count": 452,
      "outputs": []
    },
    {
      "cell_type": "code",
      "source": [
        "#Fitting pipe on x, y train\n",
        "xgb_pipe.fit(X_train, y_train)"
      ],
      "metadata": {
        "colab": {
          "base_uri": "https://localhost:8080/",
          "height": 252
        },
        "id": "0Rw5NGag6Oe0",
        "outputId": "43611471-712f-4b22-bc59-71664d802ddd"
      },
      "execution_count": 432,
      "outputs": [
        {
          "output_type": "execute_result",
          "data": {
            "text/plain": [
              "Pipeline(steps=[('columntransformer',\n",
              "                 ColumnTransformer(transformers=[('standardscaler',\n",
              "                                                  StandardScaler(),\n",
              "                                                  <sklearn.compose._column_transformer.make_column_selector object at 0x7f89e5660690>)])),\n",
              "                ('pipeline',\n",
              "                 Pipeline(steps=[('smote', SMOTE(random_state=42)),\n",
              "                                 ('xgbr',\n",
              "                                  XGBClassifier(colsample_bytree=0.3,\n",
              "                                                learning_rate=0.01, max_depth=6,\n",
              "                                                seed=20))]))])"
            ],
            "text/html": [
              "<style>#sk-342fde44-00a3-467c-bdbb-7e0ace2a9d5e {color: black;background-color: white;}#sk-342fde44-00a3-467c-bdbb-7e0ace2a9d5e pre{padding: 0;}#sk-342fde44-00a3-467c-bdbb-7e0ace2a9d5e div.sk-toggleable {background-color: white;}#sk-342fde44-00a3-467c-bdbb-7e0ace2a9d5e label.sk-toggleable__label {cursor: pointer;display: block;width: 100%;margin-bottom: 0;padding: 0.3em;box-sizing: border-box;text-align: center;}#sk-342fde44-00a3-467c-bdbb-7e0ace2a9d5e label.sk-toggleable__label-arrow:before {content: \"▸\";float: left;margin-right: 0.25em;color: #696969;}#sk-342fde44-00a3-467c-bdbb-7e0ace2a9d5e label.sk-toggleable__label-arrow:hover:before {color: black;}#sk-342fde44-00a3-467c-bdbb-7e0ace2a9d5e div.sk-estimator:hover label.sk-toggleable__label-arrow:before {color: black;}#sk-342fde44-00a3-467c-bdbb-7e0ace2a9d5e div.sk-toggleable__content {max-height: 0;max-width: 0;overflow: hidden;text-align: left;background-color: #f0f8ff;}#sk-342fde44-00a3-467c-bdbb-7e0ace2a9d5e div.sk-toggleable__content pre {margin: 0.2em;color: black;border-radius: 0.25em;background-color: #f0f8ff;}#sk-342fde44-00a3-467c-bdbb-7e0ace2a9d5e input.sk-toggleable__control:checked~div.sk-toggleable__content {max-height: 200px;max-width: 100%;overflow: auto;}#sk-342fde44-00a3-467c-bdbb-7e0ace2a9d5e input.sk-toggleable__control:checked~label.sk-toggleable__label-arrow:before {content: \"▾\";}#sk-342fde44-00a3-467c-bdbb-7e0ace2a9d5e div.sk-estimator input.sk-toggleable__control:checked~label.sk-toggleable__label {background-color: #d4ebff;}#sk-342fde44-00a3-467c-bdbb-7e0ace2a9d5e div.sk-label input.sk-toggleable__control:checked~label.sk-toggleable__label {background-color: #d4ebff;}#sk-342fde44-00a3-467c-bdbb-7e0ace2a9d5e input.sk-hidden--visually {border: 0;clip: rect(1px 1px 1px 1px);clip: rect(1px, 1px, 1px, 1px);height: 1px;margin: -1px;overflow: hidden;padding: 0;position: absolute;width: 1px;}#sk-342fde44-00a3-467c-bdbb-7e0ace2a9d5e div.sk-estimator {font-family: monospace;background-color: #f0f8ff;border: 1px dotted black;border-radius: 0.25em;box-sizing: border-box;margin-bottom: 0.5em;}#sk-342fde44-00a3-467c-bdbb-7e0ace2a9d5e div.sk-estimator:hover {background-color: #d4ebff;}#sk-342fde44-00a3-467c-bdbb-7e0ace2a9d5e div.sk-parallel-item::after {content: \"\";width: 100%;border-bottom: 1px solid gray;flex-grow: 1;}#sk-342fde44-00a3-467c-bdbb-7e0ace2a9d5e div.sk-label:hover label.sk-toggleable__label {background-color: #d4ebff;}#sk-342fde44-00a3-467c-bdbb-7e0ace2a9d5e div.sk-serial::before {content: \"\";position: absolute;border-left: 1px solid gray;box-sizing: border-box;top: 2em;bottom: 0;left: 50%;}#sk-342fde44-00a3-467c-bdbb-7e0ace2a9d5e div.sk-serial {display: flex;flex-direction: column;align-items: center;background-color: white;padding-right: 0.2em;padding-left: 0.2em;}#sk-342fde44-00a3-467c-bdbb-7e0ace2a9d5e div.sk-item {z-index: 1;}#sk-342fde44-00a3-467c-bdbb-7e0ace2a9d5e div.sk-parallel {display: flex;align-items: stretch;justify-content: center;background-color: white;}#sk-342fde44-00a3-467c-bdbb-7e0ace2a9d5e div.sk-parallel::before {content: \"\";position: absolute;border-left: 1px solid gray;box-sizing: border-box;top: 2em;bottom: 0;left: 50%;}#sk-342fde44-00a3-467c-bdbb-7e0ace2a9d5e div.sk-parallel-item {display: flex;flex-direction: column;position: relative;background-color: white;}#sk-342fde44-00a3-467c-bdbb-7e0ace2a9d5e div.sk-parallel-item:first-child::after {align-self: flex-end;width: 50%;}#sk-342fde44-00a3-467c-bdbb-7e0ace2a9d5e div.sk-parallel-item:last-child::after {align-self: flex-start;width: 50%;}#sk-342fde44-00a3-467c-bdbb-7e0ace2a9d5e div.sk-parallel-item:only-child::after {width: 0;}#sk-342fde44-00a3-467c-bdbb-7e0ace2a9d5e div.sk-dashed-wrapped {border: 1px dashed gray;margin: 0 0.4em 0.5em 0.4em;box-sizing: border-box;padding-bottom: 0.4em;background-color: white;position: relative;}#sk-342fde44-00a3-467c-bdbb-7e0ace2a9d5e div.sk-label label {font-family: monospace;font-weight: bold;background-color: white;display: inline-block;line-height: 1.2em;}#sk-342fde44-00a3-467c-bdbb-7e0ace2a9d5e div.sk-label-container {position: relative;z-index: 2;text-align: center;}#sk-342fde44-00a3-467c-bdbb-7e0ace2a9d5e div.sk-container {/* jupyter's `normalize.less` sets `[hidden] { display: none; }` but bootstrap.min.css set `[hidden] { display: none !important; }` so we also need the `!important` here to be able to override the default hidden behavior on the sphinx rendered scikit-learn.org. See: https://github.com/scikit-learn/scikit-learn/issues/21755 */display: inline-block !important;position: relative;}#sk-342fde44-00a3-467c-bdbb-7e0ace2a9d5e div.sk-text-repr-fallback {display: none;}</style><div id=\"sk-342fde44-00a3-467c-bdbb-7e0ace2a9d5e\" class=\"sk-top-container\"><div class=\"sk-text-repr-fallback\"><pre>Pipeline(steps=[(&#x27;columntransformer&#x27;,\n",
              "                 ColumnTransformer(transformers=[(&#x27;standardscaler&#x27;,\n",
              "                                                  StandardScaler(),\n",
              "                                                  &lt;sklearn.compose._column_transformer.make_column_selector object at 0x7f89e5660690&gt;)])),\n",
              "                (&#x27;pipeline&#x27;,\n",
              "                 Pipeline(steps=[(&#x27;smote&#x27;, SMOTE(random_state=42)),\n",
              "                                 (&#x27;xgbr&#x27;,\n",
              "                                  XGBClassifier(colsample_bytree=0.3,\n",
              "                                                learning_rate=0.01, max_depth=6,\n",
              "                                                seed=20))]))])</pre><b>Please rerun this cell to show the HTML repr or trust the notebook.</b></div><div class=\"sk-container\" hidden><div class=\"sk-item sk-dashed-wrapped\"><div class=\"sk-label-container\"><div class=\"sk-label sk-toggleable\"><input class=\"sk-toggleable__control sk-hidden--visually\" id=\"9dfe389f-7e06-498f-9653-986915c3dd43\" type=\"checkbox\" ><label for=\"9dfe389f-7e06-498f-9653-986915c3dd43\" class=\"sk-toggleable__label sk-toggleable__label-arrow\">Pipeline</label><div class=\"sk-toggleable__content\"><pre>Pipeline(steps=[(&#x27;columntransformer&#x27;,\n",
              "                 ColumnTransformer(transformers=[(&#x27;standardscaler&#x27;,\n",
              "                                                  StandardScaler(),\n",
              "                                                  &lt;sklearn.compose._column_transformer.make_column_selector object at 0x7f89e5660690&gt;)])),\n",
              "                (&#x27;pipeline&#x27;,\n",
              "                 Pipeline(steps=[(&#x27;smote&#x27;, SMOTE(random_state=42)),\n",
              "                                 (&#x27;xgbr&#x27;,\n",
              "                                  XGBClassifier(colsample_bytree=0.3,\n",
              "                                                learning_rate=0.01, max_depth=6,\n",
              "                                                seed=20))]))])</pre></div></div></div><div class=\"sk-serial\"><div class=\"sk-item sk-dashed-wrapped\"><div class=\"sk-label-container\"><div class=\"sk-label sk-toggleable\"><input class=\"sk-toggleable__control sk-hidden--visually\" id=\"cb21c7f7-7c69-4ac0-8721-3434ebfa61d5\" type=\"checkbox\" ><label for=\"cb21c7f7-7c69-4ac0-8721-3434ebfa61d5\" class=\"sk-toggleable__label sk-toggleable__label-arrow\">columntransformer: ColumnTransformer</label><div class=\"sk-toggleable__content\"><pre>ColumnTransformer(transformers=[(&#x27;standardscaler&#x27;, StandardScaler(),\n",
              "                                 &lt;sklearn.compose._column_transformer.make_column_selector object at 0x7f89e5660690&gt;)])</pre></div></div></div><div class=\"sk-parallel\"><div class=\"sk-parallel-item\"><div class=\"sk-item\"><div class=\"sk-label-container\"><div class=\"sk-label sk-toggleable\"><input class=\"sk-toggleable__control sk-hidden--visually\" id=\"4c1fc623-b708-4dd0-8faf-682c50a84e73\" type=\"checkbox\" ><label for=\"4c1fc623-b708-4dd0-8faf-682c50a84e73\" class=\"sk-toggleable__label sk-toggleable__label-arrow\">standardscaler</label><div class=\"sk-toggleable__content\"><pre>&lt;sklearn.compose._column_transformer.make_column_selector object at 0x7f89e5660690&gt;</pre></div></div></div><div class=\"sk-serial\"><div class=\"sk-item\"><div class=\"sk-estimator sk-toggleable\"><input class=\"sk-toggleable__control sk-hidden--visually\" id=\"4884e296-5032-4796-b6da-70709c861de3\" type=\"checkbox\" ><label for=\"4884e296-5032-4796-b6da-70709c861de3\" class=\"sk-toggleable__label sk-toggleable__label-arrow\">StandardScaler</label><div class=\"sk-toggleable__content\"><pre>StandardScaler()</pre></div></div></div></div></div></div></div></div><div class=\"sk-item\"><div class=\"sk-label-container\"><div class=\"sk-label sk-toggleable\"><input class=\"sk-toggleable__control sk-hidden--visually\" id=\"8604e933-05a9-423c-be8f-9b57312cdf14\" type=\"checkbox\" ><label for=\"8604e933-05a9-423c-be8f-9b57312cdf14\" class=\"sk-toggleable__label sk-toggleable__label-arrow\">pipeline: Pipeline</label><div class=\"sk-toggleable__content\"><pre>Pipeline(steps=[(&#x27;smote&#x27;, SMOTE(random_state=42)),\n",
              "                (&#x27;xgbr&#x27;,\n",
              "                 XGBClassifier(colsample_bytree=0.3, learning_rate=0.01,\n",
              "                               max_depth=6, seed=20))])</pre></div></div></div><div class=\"sk-serial\"><div class=\"sk-item\"><div class=\"sk-estimator sk-toggleable\"><input class=\"sk-toggleable__control sk-hidden--visually\" id=\"78af59b9-2818-4d27-9219-7452a8a17a7d\" type=\"checkbox\" ><label for=\"78af59b9-2818-4d27-9219-7452a8a17a7d\" class=\"sk-toggleable__label sk-toggleable__label-arrow\">SMOTE</label><div class=\"sk-toggleable__content\"><pre>SMOTE(random_state=42)</pre></div></div></div><div class=\"sk-item\"><div class=\"sk-estimator sk-toggleable\"><input class=\"sk-toggleable__control sk-hidden--visually\" id=\"91155028-efcf-4906-a3c3-f94b0c412fdc\" type=\"checkbox\" ><label for=\"91155028-efcf-4906-a3c3-f94b0c412fdc\" class=\"sk-toggleable__label sk-toggleable__label-arrow\">XGBClassifier</label><div class=\"sk-toggleable__content\"><pre>XGBClassifier(colsample_bytree=0.3, learning_rate=0.01, max_depth=6, seed=20)</pre></div></div></div></div></div></div></div></div></div>"
            ]
          },
          "metadata": {},
          "execution_count": 432
        }
      ]
    },
    {
      "cell_type": "markdown",
      "source": [
        "###**Predictions**"
      ],
      "metadata": {
        "id": "F_Qn0BMDmQ1s"
      }
    },
    {
      "cell_type": "code",
      "source": [
        "xgb_train_preds = xgb_pipe.predict(X_train)\n",
        "xgb_test_preds = xgb_pipe.predict(X_test)"
      ],
      "metadata": {
        "id": "MYwyGxwR5-lB"
      },
      "execution_count": 433,
      "outputs": []
    },
    {
      "cell_type": "markdown",
      "source": [
        "###**Model Evaluation**"
      ],
      "metadata": {
        "id": "oNNUzOkO5eFu"
      }
    },
    {
      "cell_type": "code",
      "source": [
        "xgb_train_report =classification_report(y_train, xgb_train_preds)\n",
        "xgb_test_report = classification_report(y_test, xgb_test_preds)"
      ],
      "metadata": {
        "id": "zZSZ4T0y5h03"
      },
      "execution_count": 434,
      "outputs": []
    },
    {
      "cell_type": "code",
      "source": [
        "print(f'Evaluation metrics on Gradient Boosting Classifier\\n\\n Train set:\\n{xgb_train_report}')\n",
        "print(\"______________________________________\\n\")\n",
        "print(f'Evaluation metrics on Gradient Boosting Classifier\\n\\n Test set:\\n{xgb_test_report}')"
      ],
      "metadata": {
        "id": "p9FB6T3j6fjm",
        "colab": {
          "base_uri": "https://localhost:8080/"
        },
        "outputId": "7c597cbc-3beb-483f-8469-704732774a36"
      },
      "execution_count": 435,
      "outputs": [
        {
          "output_type": "stream",
          "name": "stdout",
          "text": [
            "Evaluation metrics on Gradient Boosting Classifier\n",
            "\n",
            " Train set:\n",
            "              precision    recall  f1-score   support\n",
            "\n",
            "           0       0.96      0.96      0.96        26\n",
            "           1       0.99      0.99      0.99        84\n",
            "\n",
            "    accuracy                           0.98       110\n",
            "   macro avg       0.97      0.97      0.97       110\n",
            "weighted avg       0.98      0.98      0.98       110\n",
            "\n",
            "______________________________________\n",
            "\n",
            "Evaluation metrics on Gradient Boosting Classifier\n",
            "\n",
            " Test set:\n",
            "              precision    recall  f1-score   support\n",
            "\n",
            "           0       0.69      1.00      0.81        11\n",
            "           1       1.00      0.81      0.89        26\n",
            "\n",
            "    accuracy                           0.86        37\n",
            "   macro avg       0.84      0.90      0.85        37\n",
            "weighted avg       0.91      0.86      0.87        37\n",
            "\n"
          ]
        }
      ]
    },
    {
      "cell_type": "markdown",
      "source": [
        "#**Confusion Matrix**"
      ],
      "metadata": {
        "id": "CoK9nqSN60Om"
      }
    },
    {
      "cell_type": "markdown",
      "source": [
        "**Train set**"
      ],
      "metadata": {
        "id": "pAO0WSEYmfxm"
      }
    },
    {
      "cell_type": "code",
      "source": [
        "ConfusionMatrixDisplay.from_estimator(xgb_pipe, X_train, y_train, cmap =\"Blues\");"
      ],
      "metadata": {
        "id": "tktYYHOo63FR",
        "colab": {
          "base_uri": "https://localhost:8080/",
          "height": 394
        },
        "outputId": "b6abcb5e-4599-46bf-a776-d6fd2e5dfbaf"
      },
      "execution_count": 437,
      "outputs": [
        {
          "output_type": "display_data",
          "data": {
            "text/plain": [
              "<Figure size 2016x432 with 2 Axes>"
            ],
            "image/png": "[encoded data removed]"
          },
          "metadata": {}
        }
      ]
    },
    {
      "cell_type": "markdown",
      "source": [
        "The XGB model did relatively well on the train set, although it has 1 false negative error and 1 false positive error."
      ],
      "metadata": {
        "id": "V1E4-EQPVm2T"
      }
    },
    {
      "cell_type": "code",
      "source": [
        "ConfusionMatrixDisplay.from_estimator(xgb_pipe, X_test, y_test, cmap =\"Blues\");"
      ],
      "metadata": {
        "id": "Ia9f6ily69VH",
        "colab": {
          "base_uri": "https://localhost:8080/",
          "height": 394
        },
        "outputId": "6d536085-0991-4b5e-c912-b4af048b9464"
      },
      "execution_count": 438,
      "outputs": [
        {
          "output_type": "display_data",
          "data": {
            "text/plain": [
              "<Figure size 2016x432 with 2 Axes>"
            ],
            "image/png": "[encoded data removed]"
          },
          "metadata": {}
        }
      ]
    },
    {
      "cell_type": "markdown",
      "source": [
        "The model didnt perform so well on the test set. It predicted 5 false negatives, which is'nt good for model built for predicting the presence or absence of disease."
      ],
      "metadata": {
        "id": "e7Za7qviVuxq"
      }
    },
    {
      "cell_type": "markdown",
      "source": [
        "##**Defining a function to return the comparison and differences of the scores of all three models.**"
      ],
      "metadata": {
        "id": "EawPbtBgoaFg"
      }
    },
    {
      "cell_type": "code",
      "source": [
        "def models(model, X_train, X_test, y_train, y_test, scoring = \"accuracy\", model_name = \"Classifier\"):\n",
        "\n",
        "  scoring_func = get_scorer(scoring)\n",
        "  train_score = scoring_func(model, X_train, y_train)\n",
        "  test_score = scoring_func(model, X_test, y_test)\n",
        "\n",
        "  delta_score  = train_score -test_score\n",
        "  \n",
        "\n",
        "  score_dict ={f'{scoring}:train': train_score,\n",
        "               f'{scoring}:test': test_score,\n",
        "               f'{scoring}:difference' : delta_score}\n",
        "\n",
        "  score_frame = pd.DataFrame(score_dict, index=[model_name])\n",
        "\n",
        "  return(score_frame)"
      ],
      "metadata": {
        "id": "Wgx-K4LO_vJy"
      },
      "execution_count": 439,
      "outputs": []
    },
    {
      "cell_type": "markdown",
      "source": [
        "##**Model Comparison**"
      ],
      "metadata": {
        "id": "A3g_uqfwo0UO"
      }
    },
    {
      "cell_type": "code",
      "source": [
        "models_report= models(lgbm_pipe, X_train, X_test, y_train, y_test, model_name =\"LGBM Classifier\")\n",
        "models_report= models_report.append(models(best_knn_pipe, X_train, X_test, y_train, y_test, model_name =\"KNN Classifier\"))\n",
        "models_report= models_report.append(models(xgb_pipe, X_train, X_test, y_train, y_test, model_name =\"XGBoost Classifier\"))\n",
        "\n",
        "models_report"
      ],
      "metadata": {
        "id": "ck5XADxyEbAI",
        "colab": {
          "base_uri": "https://localhost:8080/",
          "height": 143
        },
        "outputId": "6006b4a8-f371-4302-bc2c-d8b5fbfcff9a"
      },
      "execution_count": 440,
      "outputs": [
        {
          "output_type": "execute_result",
          "data": {
            "text/plain": [
              "                    accuracy:train  accuracy:test  accuracy:difference\n",
              "LGBM Classifier           1.000000       0.972973             0.027027\n",
              "KNN Classifier            0.881818       0.864865             0.016953\n",
              "XGBoost Classifier        0.981818       0.864865             0.116953"
            ],
            "text/html": [
              "\n",
              "  <div id=\"df-05de7c7b-6ae2-4a97-a1a8-26e3b5346139\">\n",
              "    <div class=\"colab-df-container\">\n",
              "      <div>\n",
              "<style scoped>\n",
              "    .dataframe tbody tr th:only-of-type {\n",
              "        vertical-align: middle;\n",
              "    }\n",
              "\n",
              "    .dataframe tbody tr th {\n",
              "        vertical-align: top;\n",
              "    }\n",
              "\n",
              "    .dataframe thead th {\n",
              "        text-align: right;\n",
              "    }\n",
              "</style>\n",
              "<table border=\"1\" class=\"dataframe\">\n",
              "  <thead>\n",
              "    <tr style=\"text-align: right;\">\n",
              "      <th></th>\n",
              "      <th>accuracy:train</th>\n",
              "      <th>accuracy:test</th>\n",
              "      <th>accuracy:difference</th>\n",
              "    </tr>\n",
              "  </thead>\n",
              "  <tbody>\n",
              "    <tr>\n",
              "      <th>LGBM Classifier</th>\n",
              "      <td>1.000000</td>\n",
              "      <td>0.972973</td>\n",
              "      <td>0.027027</td>\n",
              "    </tr>\n",
              "    <tr>\n",
              "      <th>KNN Classifier</th>\n",
              "      <td>0.881818</td>\n",
              "      <td>0.864865</td>\n",
              "      <td>0.016953</td>\n",
              "    </tr>\n",
              "    <tr>\n",
              "      <th>XGBoost Classifier</th>\n",
              "      <td>0.981818</td>\n",
              "      <td>0.864865</td>\n",
              "      <td>0.116953</td>\n",
              "    </tr>\n",
              "  </tbody>\n",
              "</table>\n",
              "</div>\n",
              "      <button class=\"colab-df-convert\" onclick=\"convertToInteractive('df-05de7c7b-6ae2-4a97-a1a8-26e3b5346139')\"\n",
              "              title=\"Convert this dataframe to an interactive table.\"\n",
              "              style=\"display:none;\">\n",
              "        \n",
              "  <svg xmlns=\"http://www.w3.org/2000/svg\" height=\"24px\"viewBox=\"0 0 24 24\"\n",
              "       width=\"24px\">\n",
              "    <path d=\"M0 0h24v24H0V0z\" fill=\"none\"/>\n",
              "    <path d=\"M18.56 5.44l.94 2.06.94-2.06 2.06-.94-2.06-.94-.94-2.06-.94 2.06-2.06.94zm-11 1L8.5 8.5l.94-2.06 2.06-.94-2.06-.94L8.5 2.5l-.94 2.06-2.06.94zm10 10l.94 2.06.94-2.06 2.06-.94-2.06-.94-.94-2.06-.94 2.06-2.06.94z\"/><path d=\"M17.41 7.96l-1.37-1.37c-.4-.4-.92-.59-1.43-.59-.52 0-1.04.2-1.43.59L10.3 9.45l-7.72 7.72c-.78.78-.78 2.05 0 2.83L4 21.41c.39.39.9.59 1.41.59.51 0 1.02-.2 1.41-.59l7.78-7.78 2.81-2.81c.8-.78.8-2.07 0-2.86zM5.41 20L4 18.59l7.72-7.72 1.47 1.35L5.41 20z\"/>\n",
              "  </svg>\n",
              "      </button>\n",
              "      \n",
              "  <style>\n",
              "    .colab-df-container {\n",
              "      display:flex;\n",
              "      flex-wrap:wrap;\n",
              "      gap: 12px;\n",
              "    }\n",
              "\n",
              "    .colab-df-convert {\n",
              "      background-color: #E8F0FE;\n",
              "      border: none;\n",
              "      border-radius: 50%;\n",
              "      cursor: pointer;\n",
              "      display: none;\n",
              "      fill: #1967D2;\n",
              "      height: 32px;\n",
              "      padding: 0 0 0 0;\n",
              "      width: 32px;\n",
              "    }\n",
              "\n",
              "    .colab-df-convert:hover {\n",
              "      background-color: #E2EBFA;\n",
              "      box-shadow: 0px 1px 2px rgba(60, 64, 67, 0.3), 0px 1px 3px 1px rgba(60, 64, 67, 0.15);\n",
              "      fill: #174EA6;\n",
              "    }\n",
              "\n",
              "    [theme=dark] .colab-df-convert {\n",
              "      background-color: #3B4455;\n",
              "      fill: #D2E3FC;\n",
              "    }\n",
              "\n",
              "    [theme=dark] .colab-df-convert:hover {\n",
              "      background-color: #434B5C;\n",
              "      box-shadow: 0px 1px 3px 1px rgba(0, 0, 0, 0.15);\n",
              "      filter: drop-shadow(0px 1px 2px rgba(0, 0, 0, 0.3));\n",
              "      fill: #FFFFFF;\n",
              "    }\n",
              "  </style>\n",
              "\n",
              "      <script>\n",
              "        const buttonEl =\n",
              "          document.querySelector('#df-05de7c7b-6ae2-4a97-a1a8-26e3b5346139 button.colab-df-convert');\n",
              "        buttonEl.style.display =\n",
              "          google.colab.kernel.accessAllowed ? 'block' : 'none';\n",
              "\n",
              "        async function convertToInteractive(key) {\n",
              "          const element = document.querySelector('#df-05de7c7b-6ae2-4a97-a1a8-26e3b5346139');\n",
              "          const dataTable =\n",
              "            await google.colab.kernel.invokeFunction('convertToInteractive',\n",
              "                                                     [key], {});\n",
              "          if (!dataTable) return;\n",
              "\n",
              "          const docLinkHtml = 'Like what you see? Visit the ' +\n",
              "            '<a target=\"_blank\" href=https://colab.research.google.com/notebooks/data_table.ipynb>data table notebook</a>'\n",
              "            + ' to learn more about interactive tables.';\n",
              "          element.innerHTML = '';\n",
              "          dataTable['output_type'] = 'display_data';\n",
              "          await google.colab.output.renderOutput(dataTable, element);\n",
              "          const docLink = document.createElement('div');\n",
              "          docLink.innerHTML = docLinkHtml;\n",
              "          element.appendChild(docLink);\n",
              "        }\n",
              "      </script>\n",
              "    </div>\n",
              "  </div>\n",
              "  "
            ]
          },
          "metadata": {},
          "execution_count": 440
        }
      ]
    },
    {
      "cell_type": "markdown",
      "source": [
        "#**Conclusion**\n",
        "\n",
        ">**The results from the evaluation of all three models reveals that the LGBM classifier had the highest score on both the train set and the test set, with 100% and 97% respectively.The model with the next highest score is the XGBoost Classifier, with 98% on the train set and 86% on the test set. KNN Classifier. had the lowest score with 88% on train set and 86% on test set**\n",
        "\n",
        "\n",
        "\n",
        ">**Therefore the most suitable model among LGBM Classifier, KNN Classifier and XGBoost Classifier for the prediction of parkinson disease in divididuals is the LGBM Classifier.**\n",
        "\n",
        "\n",
        "\n",
        "\n",
        "\n",
        "\n",
        "\n"
      ],
      "metadata": {
        "id": "sUuYBTEtSAzp"
      }
    }
  ]
}